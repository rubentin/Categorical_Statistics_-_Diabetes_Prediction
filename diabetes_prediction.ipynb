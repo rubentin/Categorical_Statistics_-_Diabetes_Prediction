{
 "cells": [
  {
   "cell_type": "code",
   "execution_count": 1,
   "id": "7e5c2118",
   "metadata": {},
   "outputs": [],
   "source": [
    "# Load data manipulation package\n",
    "import numpy as np\n",
    "import pandas as pd\n",
    "\n",
    "# Load data visualization package\n",
    "import matplotlib.pyplot as plt\n",
    "import seaborn as sns\n",
    "\n",
    "# Load statistics package\n",
    "import statsmodels.api as sm\n",
    "import statsmodels.formula.api as smf\n",
    "from sklearn.linear_model import LogisticRegression\n",
    "\n",
    "# Ignore warnings\n",
    "import warnings\n",
    "warnings.filterwarnings('ignore')"
   ]
  },
  {
   "cell_type": "markdown",
   "id": "ca29ab6f",
   "metadata": {},
   "source": [
    "## 1. Load Data"
   ]
  },
  {
   "cell_type": "code",
   "execution_count": 2,
   "id": "022d2464",
   "metadata": {},
   "outputs": [
    {
     "data": {
      "text/html": [
       "<div>\n",
       "<style scoped>\n",
       "    .dataframe tbody tr th:only-of-type {\n",
       "        vertical-align: middle;\n",
       "    }\n",
       "\n",
       "    .dataframe tbody tr th {\n",
       "        vertical-align: top;\n",
       "    }\n",
       "\n",
       "    .dataframe thead th {\n",
       "        text-align: right;\n",
       "    }\n",
       "</style>\n",
       "<table border=\"1\" class=\"dataframe\">\n",
       "  <thead>\n",
       "    <tr style=\"text-align: right;\">\n",
       "      <th></th>\n",
       "      <th>gender</th>\n",
       "      <th>age</th>\n",
       "      <th>hypertension</th>\n",
       "      <th>heart_disease</th>\n",
       "      <th>smoking_history</th>\n",
       "      <th>bmi</th>\n",
       "      <th>HbA1c_level</th>\n",
       "      <th>blood_glucose_level</th>\n",
       "      <th>diabetes</th>\n",
       "    </tr>\n",
       "  </thead>\n",
       "  <tbody>\n",
       "    <tr>\n",
       "      <th>0</th>\n",
       "      <td>Female</td>\n",
       "      <td>80.0</td>\n",
       "      <td>0</td>\n",
       "      <td>1</td>\n",
       "      <td>never</td>\n",
       "      <td>25.19</td>\n",
       "      <td>6.6</td>\n",
       "      <td>140</td>\n",
       "      <td>0</td>\n",
       "    </tr>\n",
       "    <tr>\n",
       "      <th>1</th>\n",
       "      <td>Female</td>\n",
       "      <td>54.0</td>\n",
       "      <td>0</td>\n",
       "      <td>0</td>\n",
       "      <td>No Info</td>\n",
       "      <td>27.32</td>\n",
       "      <td>6.6</td>\n",
       "      <td>80</td>\n",
       "      <td>0</td>\n",
       "    </tr>\n",
       "    <tr>\n",
       "      <th>2</th>\n",
       "      <td>Male</td>\n",
       "      <td>28.0</td>\n",
       "      <td>0</td>\n",
       "      <td>0</td>\n",
       "      <td>never</td>\n",
       "      <td>27.32</td>\n",
       "      <td>5.7</td>\n",
       "      <td>158</td>\n",
       "      <td>0</td>\n",
       "    </tr>\n",
       "    <tr>\n",
       "      <th>3</th>\n",
       "      <td>Female</td>\n",
       "      <td>36.0</td>\n",
       "      <td>0</td>\n",
       "      <td>0</td>\n",
       "      <td>current</td>\n",
       "      <td>23.45</td>\n",
       "      <td>5.0</td>\n",
       "      <td>155</td>\n",
       "      <td>0</td>\n",
       "    </tr>\n",
       "    <tr>\n",
       "      <th>4</th>\n",
       "      <td>Male</td>\n",
       "      <td>76.0</td>\n",
       "      <td>1</td>\n",
       "      <td>1</td>\n",
       "      <td>current</td>\n",
       "      <td>20.14</td>\n",
       "      <td>4.8</td>\n",
       "      <td>155</td>\n",
       "      <td>0</td>\n",
       "    </tr>\n",
       "  </tbody>\n",
       "</table>\n",
       "</div>"
      ],
      "text/plain": [
       "   gender   age  hypertension  heart_disease smoking_history    bmi  \\\n",
       "0  Female  80.0             0              1           never  25.19   \n",
       "1  Female  54.0             0              0         No Info  27.32   \n",
       "2    Male  28.0             0              0           never  27.32   \n",
       "3  Female  36.0             0              0         current  23.45   \n",
       "4    Male  76.0             1              1         current  20.14   \n",
       "\n",
       "   HbA1c_level  blood_glucose_level  diabetes  \n",
       "0          6.6                  140         0  \n",
       "1          6.6                   80         0  \n",
       "2          5.7                  158         0  \n",
       "3          5.0                  155         0  \n",
       "4          4.8                  155         0  "
      ]
     },
     "execution_count": 2,
     "metadata": {},
     "output_type": "execute_result"
    }
   ],
   "source": [
    "# Import dataset from csv file\n",
    "data = pd.read_csv('diabetes_prediction_dataset.csv')\n",
    "\n",
    "# Table check\n",
    "data.head()"
   ]
  },
  {
   "cell_type": "code",
   "execution_count": 3,
   "id": "576781c2",
   "metadata": {},
   "outputs": [],
   "source": [
    "# Rename columns\n",
    "\n",
    "data.rename(columns = {'smoking_history' : 'smoking',\n",
    "                       'HbA1c_level' : 'HbA1c',\n",
    "                       'blood_glucose_level' : 'glucose'},\n",
    "            inplace = True)"
   ]
  },
  {
   "cell_type": "markdown",
   "id": "e81ad573",
   "metadata": {},
   "source": [
    "### Check for missing value"
   ]
  },
  {
   "cell_type": "code",
   "execution_count": 4,
   "id": "92b14008",
   "metadata": {},
   "outputs": [
    {
     "data": {
      "text/plain": [
       "gender           0\n",
       "age              0\n",
       "hypertension     0\n",
       "heart_disease    0\n",
       "smoking          0\n",
       "bmi              0\n",
       "HbA1c            0\n",
       "glucose          0\n",
       "diabetes         0\n",
       "dtype: int64"
      ]
     },
     "execution_count": 4,
     "metadata": {},
     "output_type": "execute_result"
    }
   ],
   "source": [
    "# Check for missing values\n",
    "\n",
    "data.isna().sum()"
   ]
  },
  {
   "cell_type": "markdown",
   "id": "9c6d2423",
   "metadata": {},
   "source": [
    "### Check for duplicates"
   ]
  },
  {
   "cell_type": "code",
   "execution_count": 5,
   "id": "8c52d59a",
   "metadata": {},
   "outputs": [
    {
     "data": {
      "text/html": [
       "<div>\n",
       "<style scoped>\n",
       "    .dataframe tbody tr th:only-of-type {\n",
       "        vertical-align: middle;\n",
       "    }\n",
       "\n",
       "    .dataframe tbody tr th {\n",
       "        vertical-align: top;\n",
       "    }\n",
       "\n",
       "    .dataframe thead th {\n",
       "        text-align: right;\n",
       "    }\n",
       "</style>\n",
       "<table border=\"1\" class=\"dataframe\">\n",
       "  <thead>\n",
       "    <tr style=\"text-align: right;\">\n",
       "      <th></th>\n",
       "      <th>gender</th>\n",
       "      <th>age</th>\n",
       "      <th>hypertension</th>\n",
       "      <th>heart_disease</th>\n",
       "      <th>smoking</th>\n",
       "      <th>bmi</th>\n",
       "      <th>HbA1c</th>\n",
       "      <th>glucose</th>\n",
       "      <th>diabetes</th>\n",
       "    </tr>\n",
       "  </thead>\n",
       "  <tbody>\n",
       "    <tr>\n",
       "      <th>1</th>\n",
       "      <td>Female</td>\n",
       "      <td>54.0</td>\n",
       "      <td>0</td>\n",
       "      <td>0</td>\n",
       "      <td>No Info</td>\n",
       "      <td>27.32</td>\n",
       "      <td>6.6</td>\n",
       "      <td>80</td>\n",
       "      <td>0</td>\n",
       "    </tr>\n",
       "    <tr>\n",
       "      <th>10</th>\n",
       "      <td>Female</td>\n",
       "      <td>53.0</td>\n",
       "      <td>0</td>\n",
       "      <td>0</td>\n",
       "      <td>never</td>\n",
       "      <td>27.32</td>\n",
       "      <td>6.1</td>\n",
       "      <td>85</td>\n",
       "      <td>0</td>\n",
       "    </tr>\n",
       "    <tr>\n",
       "      <th>14</th>\n",
       "      <td>Female</td>\n",
       "      <td>76.0</td>\n",
       "      <td>0</td>\n",
       "      <td>0</td>\n",
       "      <td>No Info</td>\n",
       "      <td>27.32</td>\n",
       "      <td>5.0</td>\n",
       "      <td>160</td>\n",
       "      <td>0</td>\n",
       "    </tr>\n",
       "    <tr>\n",
       "      <th>18</th>\n",
       "      <td>Female</td>\n",
       "      <td>42.0</td>\n",
       "      <td>0</td>\n",
       "      <td>0</td>\n",
       "      <td>No Info</td>\n",
       "      <td>27.32</td>\n",
       "      <td>5.7</td>\n",
       "      <td>80</td>\n",
       "      <td>0</td>\n",
       "    </tr>\n",
       "    <tr>\n",
       "      <th>41</th>\n",
       "      <td>Male</td>\n",
       "      <td>5.0</td>\n",
       "      <td>0</td>\n",
       "      <td>0</td>\n",
       "      <td>No Info</td>\n",
       "      <td>27.32</td>\n",
       "      <td>6.6</td>\n",
       "      <td>130</td>\n",
       "      <td>0</td>\n",
       "    </tr>\n",
       "    <tr>\n",
       "      <th>...</th>\n",
       "      <td>...</td>\n",
       "      <td>...</td>\n",
       "      <td>...</td>\n",
       "      <td>...</td>\n",
       "      <td>...</td>\n",
       "      <td>...</td>\n",
       "      <td>...</td>\n",
       "      <td>...</td>\n",
       "      <td>...</td>\n",
       "    </tr>\n",
       "    <tr>\n",
       "      <th>99980</th>\n",
       "      <td>Female</td>\n",
       "      <td>52.0</td>\n",
       "      <td>0</td>\n",
       "      <td>0</td>\n",
       "      <td>never</td>\n",
       "      <td>27.32</td>\n",
       "      <td>6.1</td>\n",
       "      <td>145</td>\n",
       "      <td>0</td>\n",
       "    </tr>\n",
       "    <tr>\n",
       "      <th>99985</th>\n",
       "      <td>Male</td>\n",
       "      <td>25.0</td>\n",
       "      <td>0</td>\n",
       "      <td>0</td>\n",
       "      <td>No Info</td>\n",
       "      <td>27.32</td>\n",
       "      <td>5.8</td>\n",
       "      <td>145</td>\n",
       "      <td>0</td>\n",
       "    </tr>\n",
       "    <tr>\n",
       "      <th>99989</th>\n",
       "      <td>Female</td>\n",
       "      <td>26.0</td>\n",
       "      <td>0</td>\n",
       "      <td>0</td>\n",
       "      <td>No Info</td>\n",
       "      <td>27.32</td>\n",
       "      <td>5.0</td>\n",
       "      <td>158</td>\n",
       "      <td>0</td>\n",
       "    </tr>\n",
       "    <tr>\n",
       "      <th>99990</th>\n",
       "      <td>Male</td>\n",
       "      <td>39.0</td>\n",
       "      <td>0</td>\n",
       "      <td>0</td>\n",
       "      <td>No Info</td>\n",
       "      <td>27.32</td>\n",
       "      <td>6.1</td>\n",
       "      <td>100</td>\n",
       "      <td>0</td>\n",
       "    </tr>\n",
       "    <tr>\n",
       "      <th>99995</th>\n",
       "      <td>Female</td>\n",
       "      <td>80.0</td>\n",
       "      <td>0</td>\n",
       "      <td>0</td>\n",
       "      <td>No Info</td>\n",
       "      <td>27.32</td>\n",
       "      <td>6.2</td>\n",
       "      <td>90</td>\n",
       "      <td>0</td>\n",
       "    </tr>\n",
       "  </tbody>\n",
       "</table>\n",
       "<p>6939 rows × 9 columns</p>\n",
       "</div>"
      ],
      "text/plain": [
       "       gender   age  hypertension  heart_disease  smoking    bmi  HbA1c  \\\n",
       "1      Female  54.0             0              0  No Info  27.32    6.6   \n",
       "10     Female  53.0             0              0    never  27.32    6.1   \n",
       "14     Female  76.0             0              0  No Info  27.32    5.0   \n",
       "18     Female  42.0             0              0  No Info  27.32    5.7   \n",
       "41       Male   5.0             0              0  No Info  27.32    6.6   \n",
       "...       ...   ...           ...            ...      ...    ...    ...   \n",
       "99980  Female  52.0             0              0    never  27.32    6.1   \n",
       "99985    Male  25.0             0              0  No Info  27.32    5.8   \n",
       "99989  Female  26.0             0              0  No Info  27.32    5.0   \n",
       "99990    Male  39.0             0              0  No Info  27.32    6.1   \n",
       "99995  Female  80.0             0              0  No Info  27.32    6.2   \n",
       "\n",
       "       glucose  diabetes  \n",
       "1           80         0  \n",
       "10          85         0  \n",
       "14         160         0  \n",
       "18          80         0  \n",
       "41         130         0  \n",
       "...        ...       ...  \n",
       "99980      145         0  \n",
       "99985      145         0  \n",
       "99989      158         0  \n",
       "99990      100         0  \n",
       "99995       90         0  \n",
       "\n",
       "[6939 rows x 9 columns]"
      ]
     },
     "execution_count": 5,
     "metadata": {},
     "output_type": "execute_result"
    }
   ],
   "source": [
    "# Duplicates check\n",
    "\n",
    "data[data.duplicated(keep = False)]"
   ]
  },
  {
   "cell_type": "code",
   "execution_count": 6,
   "id": "9ad7da7d",
   "metadata": {},
   "outputs": [
    {
     "data": {
      "text/plain": [
       "3854"
      ]
     },
     "execution_count": 6,
     "metadata": {},
     "output_type": "execute_result"
    }
   ],
   "source": [
    "# Duplicates check\n",
    "\n",
    "data.duplicated().sum()"
   ]
  },
  {
   "cell_type": "code",
   "execution_count": 7,
   "id": "79d55908",
   "metadata": {},
   "outputs": [
    {
     "data": {
      "text/plain": [
       "0"
      ]
     },
     "execution_count": 7,
     "metadata": {},
     "output_type": "execute_result"
    }
   ],
   "source": [
    "# Drop duplicates\n",
    "data.drop_duplicates(keep = 'first', inplace = True)\n",
    "\n",
    "# Re-check duplicates\n",
    "data.duplicated().sum()"
   ]
  },
  {
   "cell_type": "markdown",
   "id": "9a56c9ba",
   "metadata": {},
   "source": [
    "### Check for outliers"
   ]
  },
  {
   "cell_type": "code",
   "execution_count": 8,
   "id": "c609d155",
   "metadata": {},
   "outputs": [
    {
     "data": {
      "image/png": "[encoded data removed]",
      "text/plain": [
       "<Figure size 1500x1500 with 4 Axes>"
      ]
     },
     "metadata": {},
     "output_type": "display_data"
    }
   ],
   "source": [
    "# Check for outliers\n",
    "columns = ['age', 'bmi','HbA1c','glucose']\n",
    "\n",
    "plt.subplots(figsize=(15,15))\n",
    "for idx, name in enumerate(columns):\n",
    "    plt.subplot(5, 6, idx + 1)\n",
    "    plt.boxplot(data[name])\n",
    "    plt.title(name)"
   ]
  },
  {
   "cell_type": "code",
   "execution_count": 9,
   "id": "6f97cd0f",
   "metadata": {},
   "outputs": [],
   "source": [
    "# Drop outliers\n",
    "selectedFeatures = ['bmi','HbA1c','glucose']\n",
    "\n",
    "for index, names in enumerate(selectedFeatures):\n",
    "    q1 = data[names].quantile(0.25)\n",
    "    q3 = data[names].quantile(0.75)\n",
    "    iqr = q3 - q1\n",
    "    lowerbound = q1 - 1.5*iqr\n",
    "    upperbound = q3 + 1.5*iqr\n",
    "    outliers = data[(data[names] < lowerbound) | (data[names] > upperbound)]\n",
    "    data = data.drop(outliers.index)"
   ]
  },
  {
   "cell_type": "code",
   "execution_count": 10,
   "id": "4bdd3bcc",
   "metadata": {},
   "outputs": [
    {
     "data": {
      "image/png": "[encoded data removed]",
      "text/plain": [
       "<Figure size 1500x1500 with 4 Axes>"
      ]
     },
     "metadata": {},
     "output_type": "display_data"
    }
   ],
   "source": [
    "# Re-check outliers\n",
    "columns = ['age', 'bmi','HbA1c','glucose']\n",
    "\n",
    "plt.subplots(figsize=(15,15))\n",
    "for idx, name in enumerate(columns):\n",
    "    plt.subplot(5, 6, idx + 1)\n",
    "    plt.boxplot(data[name])\n",
    "    plt.title(name)"
   ]
  },
  {
   "cell_type": "code",
   "execution_count": 11,
   "id": "768ae9d2",
   "metadata": {},
   "outputs": [
    {
     "data": {
      "text/plain": [
       "(88195, 9)"
      ]
     },
     "execution_count": 11,
     "metadata": {},
     "output_type": "execute_result"
    }
   ],
   "source": [
    "# Check data shape\n",
    "\n",
    "data.shape"
   ]
  },
  {
   "cell_type": "code",
   "execution_count": 12,
   "id": "bae18b0f",
   "metadata": {},
   "outputs": [
    {
     "name": "stdout",
     "output_type": "stream",
     "text": [
      "<class 'pandas.core.frame.DataFrame'>\n",
      "Int64Index: 88195 entries, 0 to 99999\n",
      "Data columns (total 9 columns):\n",
      " #   Column         Non-Null Count  Dtype  \n",
      "---  ------         --------------  -----  \n",
      " 0   gender         88195 non-null  object \n",
      " 1   age            88195 non-null  float64\n",
      " 2   hypertension   88195 non-null  int64  \n",
      " 3   heart_disease  88195 non-null  int64  \n",
      " 4   smoking        88195 non-null  object \n",
      " 5   bmi            88195 non-null  float64\n",
      " 6   HbA1c          88195 non-null  float64\n",
      " 7   glucose        88195 non-null  int64  \n",
      " 8   diabetes       88195 non-null  int64  \n",
      "dtypes: float64(3), int64(4), object(2)\n",
      "memory usage: 6.7+ MB\n"
     ]
    }
   ],
   "source": [
    "# Data info\n",
    "\n",
    "data.info()"
   ]
  },
  {
   "cell_type": "markdown",
   "id": "cd53c199",
   "metadata": {
    "id": "WipIWdqqq8Wd"
   },
   "source": [
    "The dataset contains binary response variable:\n",
    "- `diabetes` : binary classification\n",
    "    - 0 : indicating the absence of diabetes\n",
    "    - 1 : indicating the presence of diabetes\n",
    "\n",
    "The potential predictors are:\n",
    "1. `gender` : biological sex of the individual (multicategory)\n",
    "2. `age` : age of the individual (continuous)\n",
    "3. `hypertension` : indicates of hypertension (binary)\n",
    "4. `heart_disease` : indicates of heart disease (binary)\n",
    "5. `smoking` : smoking status (multicategory)\n",
    "6. `bmi` : body mass index (continuous)\n",
    "7. `HbA1c` : hemoglobin level (continuous)\n",
    "8. `glucose` : glucose level (continuous)"
   ]
  },
  {
   "cell_type": "markdown",
   "id": "b8fb8974",
   "metadata": {},
   "source": [
    "## 2. Sample Splitting"
   ]
  },
  {
   "cell_type": "code",
   "execution_count": 13,
   "id": "8fb95b76",
   "metadata": {},
   "outputs": [
    {
     "data": {
      "image/png": "[encoded data removed]",
      "text/plain": [
       "<Figure size 640x480 with 1 Axes>"
      ]
     },
     "metadata": {},
     "output_type": "display_data"
    }
   ],
   "source": [
    "# Response variable distribution plot\n",
    "\n",
    "sns.countplot('diabetes', data = data, palette = 'pastel')\n",
    "plt.show()"
   ]
  },
  {
   "cell_type": "code",
   "execution_count": 14,
   "id": "c48499d9",
   "metadata": {},
   "outputs": [
    {
     "data": {
      "text/plain": [
       "0    0.947639\n",
       "1    0.052361\n",
       "Name: diabetes, dtype: float64"
      ]
     },
     "execution_count": 14,
     "metadata": {},
     "output_type": "execute_result"
    }
   ],
   "source": [
    "# Check the proportion of response variable\n",
    "\n",
    "data['diabetes'].value_counts(normalize = True)"
   ]
  },
  {
   "cell_type": "markdown",
   "id": "3dc002f8",
   "metadata": {
    "id": "QQtluH02QcY5"
   },
   "source": [
    "The proportion of the response variable is imbalanced.\n",
    "\n",
    "To get the same ratio in training & testing set, define a stratified splitting based on the response variable."
   ]
  },
  {
   "cell_type": "code",
   "execution_count": 15,
   "id": "50e56809",
   "metadata": {},
   "outputs": [
    {
     "name": "stdout",
     "output_type": "stream",
     "text": [
      "y shape : (88195,)\n",
      "X shape : (88195, 8)\n"
     ]
    }
   ],
   "source": [
    "# Define the response variable\n",
    "response_variable = 'diabetes'\n",
    "\n",
    "# Split response and predictors\n",
    "y = data[response_variable]\n",
    "X = data.drop(columns = [response_variable], axis = 1)\n",
    "\n",
    "# Validate the splitting\n",
    "print('y shape :', y.shape)\n",
    "print('X shape :', X.shape)"
   ]
  },
  {
   "cell_type": "markdown",
   "id": "d653b82c",
   "metadata": {
    "id": "zE0z7Ye-RWYU"
   },
   "source": [
    "Next, split the training and testing set from each predictors (X) and response (y).\n",
    "- Set `stratify = y` for splitting the sample with stratify, based on the proportion of response y.\n",
    "- Set `test_size = 0.3` for holding 30% of the sample as a testing set.\n",
    "- Set `random_state = 73` for reproducibility."
   ]
  },
  {
   "cell_type": "code",
   "execution_count": 16,
   "id": "071ac171",
   "metadata": {},
   "outputs": [
    {
     "name": "stdout",
     "output_type": "stream",
     "text": [
      "X train shape : (61736, 8)\n",
      "y train shape : (61736,)\n",
      "X test shape  : (26459, 8)\n",
      "y test shape  : (26459,)\n"
     ]
    }
   ],
   "source": [
    "from sklearn.model_selection import train_test_split\n",
    "\n",
    "# Split the data\n",
    "X_train, X_test, y_train, y_test = train_test_split(X,\n",
    "                                                    y,\n",
    "                                                    stratify = y,\n",
    "                                                    test_size = 0.3,\n",
    "                                                    random_state = 73)\n",
    "\n",
    "# Validate splitting\n",
    "print('X train shape :', X_train.shape)\n",
    "print('y train shape :', y_train.shape)\n",
    "print('X test shape  :', X_test.shape)\n",
    "print('y test shape  :', y_test.shape)"
   ]
  },
  {
   "cell_type": "markdown",
   "id": "b9a1f65c",
   "metadata": {
    "id": "0gc_5vRtSQ5p"
   },
   "source": [
    "Check the proportion of response y in each training and testing set."
   ]
  },
  {
   "cell_type": "code",
   "execution_count": 17,
   "id": "f67a9d96",
   "metadata": {
    "colab": {
     "base_uri": "https://localhost:8080/"
    },
    "id": "8e0o5iK9n2vd",
    "outputId": "4af78919-53cc-444a-c4b1-f75cf69296d4"
   },
   "outputs": [
    {
     "data": {
      "text/plain": [
       "0    0.947632\n",
       "1    0.052368\n",
       "Name: diabetes, dtype: float64"
      ]
     },
     "execution_count": 17,
     "metadata": {},
     "output_type": "execute_result"
    }
   ],
   "source": [
    "y_train.value_counts(normalize = True)"
   ]
  },
  {
   "cell_type": "code",
   "execution_count": 18,
   "id": "40d82ec8",
   "metadata": {
    "colab": {
     "base_uri": "https://localhost:8080/"
    },
    "id": "y9L6mgACpV7P",
    "outputId": "0a200b77-1dda-4003-83aa-e5edced30e14"
   },
   "outputs": [
    {
     "data": {
      "text/plain": [
       "0    0.947655\n",
       "1    0.052345\n",
       "Name: diabetes, dtype: float64"
      ]
     },
     "execution_count": 18,
     "metadata": {},
     "output_type": "execute_result"
    }
   ],
   "source": [
    "y_test.value_counts(normalize = True)"
   ]
  },
  {
   "cell_type": "markdown",
   "id": "3d8f6237",
   "metadata": {},
   "source": [
    "## 3. Exploratory Data Analysis"
   ]
  },
  {
   "cell_type": "markdown",
   "id": "4f5fc19c",
   "metadata": {
    "id": "zuJgtg0FSobu"
   },
   "source": [
    "- To make a model that predicts well on unseen data, we must prevent leakage of test set information.\n",
    "- Thus, we only explore on **training set**."
   ]
  },
  {
   "cell_type": "code",
   "execution_count": 19,
   "id": "ed8c7688",
   "metadata": {},
   "outputs": [
    {
     "name": "stdout",
     "output_type": "stream",
     "text": [
      "Train data shape: (61736, 9)\n"
     ]
    },
    {
     "data": {
      "text/html": [
       "<div>\n",
       "<style scoped>\n",
       "    .dataframe tbody tr th:only-of-type {\n",
       "        vertical-align: middle;\n",
       "    }\n",
       "\n",
       "    .dataframe tbody tr th {\n",
       "        vertical-align: top;\n",
       "    }\n",
       "\n",
       "    .dataframe thead th {\n",
       "        text-align: right;\n",
       "    }\n",
       "</style>\n",
       "<table border=\"1\" class=\"dataframe\">\n",
       "  <thead>\n",
       "    <tr style=\"text-align: right;\">\n",
       "      <th></th>\n",
       "      <th>gender</th>\n",
       "      <th>age</th>\n",
       "      <th>hypertension</th>\n",
       "      <th>heart_disease</th>\n",
       "      <th>smoking</th>\n",
       "      <th>bmi</th>\n",
       "      <th>HbA1c</th>\n",
       "      <th>glucose</th>\n",
       "      <th>diabetes</th>\n",
       "    </tr>\n",
       "  </thead>\n",
       "  <tbody>\n",
       "    <tr>\n",
       "      <th>10474</th>\n",
       "      <td>Male</td>\n",
       "      <td>27.0</td>\n",
       "      <td>0</td>\n",
       "      <td>0</td>\n",
       "      <td>never</td>\n",
       "      <td>21.23</td>\n",
       "      <td>3.5</td>\n",
       "      <td>145</td>\n",
       "      <td>0</td>\n",
       "    </tr>\n",
       "    <tr>\n",
       "      <th>92174</th>\n",
       "      <td>Male</td>\n",
       "      <td>12.0</td>\n",
       "      <td>0</td>\n",
       "      <td>0</td>\n",
       "      <td>never</td>\n",
       "      <td>19.72</td>\n",
       "      <td>4.5</td>\n",
       "      <td>158</td>\n",
       "      <td>0</td>\n",
       "    </tr>\n",
       "    <tr>\n",
       "      <th>2351</th>\n",
       "      <td>Female</td>\n",
       "      <td>48.0</td>\n",
       "      <td>0</td>\n",
       "      <td>0</td>\n",
       "      <td>No Info</td>\n",
       "      <td>27.90</td>\n",
       "      <td>5.8</td>\n",
       "      <td>140</td>\n",
       "      <td>0</td>\n",
       "    </tr>\n",
       "    <tr>\n",
       "      <th>82543</th>\n",
       "      <td>Female</td>\n",
       "      <td>61.0</td>\n",
       "      <td>0</td>\n",
       "      <td>0</td>\n",
       "      <td>never</td>\n",
       "      <td>19.47</td>\n",
       "      <td>5.0</td>\n",
       "      <td>160</td>\n",
       "      <td>0</td>\n",
       "    </tr>\n",
       "    <tr>\n",
       "      <th>85789</th>\n",
       "      <td>Female</td>\n",
       "      <td>29.0</td>\n",
       "      <td>0</td>\n",
       "      <td>0</td>\n",
       "      <td>never</td>\n",
       "      <td>24.36</td>\n",
       "      <td>6.2</td>\n",
       "      <td>145</td>\n",
       "      <td>0</td>\n",
       "    </tr>\n",
       "  </tbody>\n",
       "</table>\n",
       "</div>"
      ],
      "text/plain": [
       "       gender   age  hypertension  heart_disease  smoking    bmi  HbA1c  \\\n",
       "10474    Male  27.0             0              0    never  21.23    3.5   \n",
       "92174    Male  12.0             0              0    never  19.72    4.5   \n",
       "2351   Female  48.0             0              0  No Info  27.90    5.8   \n",
       "82543  Female  61.0             0              0    never  19.47    5.0   \n",
       "85789  Female  29.0             0              0    never  24.36    6.2   \n",
       "\n",
       "       glucose  diabetes  \n",
       "10474      145         0  \n",
       "92174      158         0  \n",
       "2351       140         0  \n",
       "82543      160         0  \n",
       "85789      145         0  "
      ]
     },
     "execution_count": 19,
     "metadata": {},
     "output_type": "execute_result"
    }
   ],
   "source": [
    "# Concatenate X_train and y_train as data_train\n",
    "data_train = pd.concat((X_train, y_train), axis=1)\n",
    "\n",
    "# Validate data_train\n",
    "print('Train data shape:', data_train.shape)\n",
    "data_train.head()"
   ]
  },
  {
   "cell_type": "markdown",
   "id": "55e41316",
   "metadata": {},
   "source": [
    "### Describe data"
   ]
  },
  {
   "cell_type": "code",
   "execution_count": 20,
   "id": "caa7a190",
   "metadata": {},
   "outputs": [
    {
     "data": {
      "text/html": [
       "<div>\n",
       "<style scoped>\n",
       "    .dataframe tbody tr th:only-of-type {\n",
       "        vertical-align: middle;\n",
       "    }\n",
       "\n",
       "    .dataframe tbody tr th {\n",
       "        vertical-align: top;\n",
       "    }\n",
       "\n",
       "    .dataframe thead th {\n",
       "        text-align: right;\n",
       "    }\n",
       "</style>\n",
       "<table border=\"1\" class=\"dataframe\">\n",
       "  <thead>\n",
       "    <tr style=\"text-align: right;\">\n",
       "      <th></th>\n",
       "      <th>count</th>\n",
       "      <th>unique</th>\n",
       "      <th>top</th>\n",
       "      <th>freq</th>\n",
       "      <th>mean</th>\n",
       "      <th>std</th>\n",
       "      <th>min</th>\n",
       "      <th>25%</th>\n",
       "      <th>50%</th>\n",
       "      <th>75%</th>\n",
       "      <th>max</th>\n",
       "    </tr>\n",
       "  </thead>\n",
       "  <tbody>\n",
       "    <tr>\n",
       "      <th>gender</th>\n",
       "      <td>61736</td>\n",
       "      <td>3</td>\n",
       "      <td>Female</td>\n",
       "      <td>35826</td>\n",
       "      <td>NaN</td>\n",
       "      <td>NaN</td>\n",
       "      <td>NaN</td>\n",
       "      <td>NaN</td>\n",
       "      <td>NaN</td>\n",
       "      <td>NaN</td>\n",
       "      <td>NaN</td>\n",
       "    </tr>\n",
       "    <tr>\n",
       "      <th>age</th>\n",
       "      <td>61736.0</td>\n",
       "      <td>NaN</td>\n",
       "      <td>NaN</td>\n",
       "      <td>NaN</td>\n",
       "      <td>41.085572</td>\n",
       "      <td>22.646661</td>\n",
       "      <td>0.08</td>\n",
       "      <td>23.0</td>\n",
       "      <td>42.0</td>\n",
       "      <td>59.0</td>\n",
       "      <td>80.0</td>\n",
       "    </tr>\n",
       "    <tr>\n",
       "      <th>hypertension</th>\n",
       "      <td>61736.0</td>\n",
       "      <td>NaN</td>\n",
       "      <td>NaN</td>\n",
       "      <td>NaN</td>\n",
       "      <td>0.068631</td>\n",
       "      <td>0.252828</td>\n",
       "      <td>0.0</td>\n",
       "      <td>0.0</td>\n",
       "      <td>0.0</td>\n",
       "      <td>0.0</td>\n",
       "      <td>1.0</td>\n",
       "    </tr>\n",
       "    <tr>\n",
       "      <th>heart_disease</th>\n",
       "      <td>61736.0</td>\n",
       "      <td>NaN</td>\n",
       "      <td>NaN</td>\n",
       "      <td>NaN</td>\n",
       "      <td>0.036575</td>\n",
       "      <td>0.187718</td>\n",
       "      <td>0.0</td>\n",
       "      <td>0.0</td>\n",
       "      <td>0.0</td>\n",
       "      <td>0.0</td>\n",
       "      <td>1.0</td>\n",
       "    </tr>\n",
       "    <tr>\n",
       "      <th>smoking</th>\n",
       "      <td>61736</td>\n",
       "      <td>6</td>\n",
       "      <td>never</td>\n",
       "      <td>21913</td>\n",
       "      <td>NaN</td>\n",
       "      <td>NaN</td>\n",
       "      <td>NaN</td>\n",
       "      <td>NaN</td>\n",
       "      <td>NaN</td>\n",
       "      <td>NaN</td>\n",
       "      <td>NaN</td>\n",
       "    </tr>\n",
       "    <tr>\n",
       "      <th>bmi</th>\n",
       "      <td>61736.0</td>\n",
       "      <td>NaN</td>\n",
       "      <td>NaN</td>\n",
       "      <td>NaN</td>\n",
       "      <td>26.302128</td>\n",
       "      <td>5.210113</td>\n",
       "      <td>13.71</td>\n",
       "      <td>23.03</td>\n",
       "      <td>27.32</td>\n",
       "      <td>28.69</td>\n",
       "      <td>39.55</td>\n",
       "    </tr>\n",
       "    <tr>\n",
       "      <th>HbA1c</th>\n",
       "      <td>61736.0</td>\n",
       "      <td>NaN</td>\n",
       "      <td>NaN</td>\n",
       "      <td>NaN</td>\n",
       "      <td>5.457477</td>\n",
       "      <td>0.996171</td>\n",
       "      <td>3.5</td>\n",
       "      <td>4.8</td>\n",
       "      <td>5.8</td>\n",
       "      <td>6.2</td>\n",
       "      <td>8.2</td>\n",
       "    </tr>\n",
       "    <tr>\n",
       "      <th>glucose</th>\n",
       "      <td>61736.0</td>\n",
       "      <td>NaN</td>\n",
       "      <td>NaN</td>\n",
       "      <td>NaN</td>\n",
       "      <td>134.625</td>\n",
       "      <td>35.247991</td>\n",
       "      <td>80.0</td>\n",
       "      <td>100.0</td>\n",
       "      <td>140.0</td>\n",
       "      <td>158.0</td>\n",
       "      <td>240.0</td>\n",
       "    </tr>\n",
       "    <tr>\n",
       "      <th>diabetes</th>\n",
       "      <td>61736.0</td>\n",
       "      <td>NaN</td>\n",
       "      <td>NaN</td>\n",
       "      <td>NaN</td>\n",
       "      <td>0.052368</td>\n",
       "      <td>0.22277</td>\n",
       "      <td>0.0</td>\n",
       "      <td>0.0</td>\n",
       "      <td>0.0</td>\n",
       "      <td>0.0</td>\n",
       "      <td>1.0</td>\n",
       "    </tr>\n",
       "  </tbody>\n",
       "</table>\n",
       "</div>"
      ],
      "text/plain": [
       "                 count unique     top   freq       mean        std    min  \\\n",
       "gender           61736      3  Female  35826        NaN        NaN    NaN   \n",
       "age            61736.0    NaN     NaN    NaN  41.085572  22.646661   0.08   \n",
       "hypertension   61736.0    NaN     NaN    NaN   0.068631   0.252828    0.0   \n",
       "heart_disease  61736.0    NaN     NaN    NaN   0.036575   0.187718    0.0   \n",
       "smoking          61736      6   never  21913        NaN        NaN    NaN   \n",
       "bmi            61736.0    NaN     NaN    NaN  26.302128   5.210113  13.71   \n",
       "HbA1c          61736.0    NaN     NaN    NaN   5.457477   0.996171    3.5   \n",
       "glucose        61736.0    NaN     NaN    NaN    134.625  35.247991   80.0   \n",
       "diabetes       61736.0    NaN     NaN    NaN   0.052368    0.22277    0.0   \n",
       "\n",
       "                 25%    50%    75%    max  \n",
       "gender           NaN    NaN    NaN    NaN  \n",
       "age             23.0   42.0   59.0   80.0  \n",
       "hypertension     0.0    0.0    0.0    1.0  \n",
       "heart_disease    0.0    0.0    0.0    1.0  \n",
       "smoking          NaN    NaN    NaN    NaN  \n",
       "bmi            23.03  27.32  28.69  39.55  \n",
       "HbA1c            4.8    5.8    6.2    8.2  \n",
       "glucose        100.0  140.0  158.0  240.0  \n",
       "diabetes         0.0    0.0    0.0    1.0  "
      ]
     },
     "execution_count": 20,
     "metadata": {},
     "output_type": "execute_result"
    }
   ],
   "source": [
    "# Describe data\n",
    "\n",
    "data_train.describe(include = 'all').T"
   ]
  },
  {
   "cell_type": "markdown",
   "id": "d7c0d839",
   "metadata": {},
   "source": [
    "### 3.1. Predictor 1: 'gender'"
   ]
  },
  {
   "cell_type": "code",
   "execution_count": 21,
   "id": "7042381c",
   "metadata": {},
   "outputs": [
    {
     "data": {
      "text/plain": [
       "Female    35826\n",
       "Male      25897\n",
       "Other        13\n",
       "Name: gender, dtype: int64"
      ]
     },
     "execution_count": 21,
     "metadata": {},
     "output_type": "execute_result"
    }
   ],
   "source": [
    "# Describe proportion of 'gender'\n",
    "\n",
    "data_train['gender'].value_counts()"
   ]
  },
  {
   "cell_type": "code",
   "execution_count": 22,
   "id": "4cc64214",
   "metadata": {},
   "outputs": [],
   "source": [
    "# Drop 'Other' from 'gender'\n",
    "data_train.drop(data_train[(data_train['gender'] == 'Other')].index,\n",
    "                inplace = True)"
   ]
  },
  {
   "cell_type": "code",
   "execution_count": 23,
   "id": "c2e57c4a",
   "metadata": {},
   "outputs": [
    {
     "data": {
      "text/plain": [
       "<AxesSubplot:xlabel='gender', ylabel='count'>"
      ]
     },
     "execution_count": 23,
     "metadata": {},
     "output_type": "execute_result"
    },
    {
     "data": {
      "image/png": "[encoded data removed]",
      "text/plain": [
       "<Figure size 640x480 with 1 Axes>"
      ]
     },
     "metadata": {},
     "output_type": "display_data"
    }
   ],
   "source": [
    "# Distribution plot of 'gender'\n",
    "sns.countplot(data = data_train,\n",
    "             x = 'gender',\n",
    "             hue = 'diabetes',\n",
    "             palette = 'pastel')"
   ]
  },
  {
   "cell_type": "code",
   "execution_count": 24,
   "id": "19a7dfc1",
   "metadata": {},
   "outputs": [],
   "source": [
    "# Independence Test Function\n",
    "\n",
    "# Import the libraries\n",
    "import scipy.stats as stats\n",
    "from scipy.stats import chi2_contingency\n",
    "\n",
    "# Create a function of independence test\n",
    "def independence_test(predictor_label, alpha = 0.05):\n",
    "    \"\"\"\n",
    "    Funtion to perform the independence test.\n",
    "\n",
    "    Parameters\n",
    "    ----------\n",
    "    predictor_label : object\n",
    "      The label of predictor variable.\n",
    "\n",
    "    alpha : float in range[0,1], default = 0.05\n",
    "      Probability of Type I Error (reject H0 when H0 is true).\n",
    "\n",
    "    \"\"\"\n",
    "    # Build the contingency table\n",
    "    crosstab = pd.crosstab(data_train[predictor_label],\n",
    "                           data_train[response_variable],\n",
    "                           margins = False)\n",
    "\n",
    "    # Test whether 'Diabetes' is independent of the predictor\n",
    "    stats.chi2_contingency(crosstab)\n",
    "\n",
    "    # Result of independence test\n",
    "    result = stats.chi2_contingency(crosstab)\n",
    "\n",
    "    # Extract the test result\n",
    "    stat = result[0]\n",
    "    pval = result[1]\n",
    "\n",
    "    # Print the conclusion\n",
    "    if pval < alpha:\n",
    "        print(f\"Diabetes and {predictor_label} is not independent with P-val = {pval:.2f}.\")\n",
    "    else:\n",
    "        print(f\"Diabetes and {predictor_label} is independent with P-val = {pval:.2f}.\")"
   ]
  },
  {
   "cell_type": "code",
   "execution_count": 25,
   "id": "e05649be",
   "metadata": {},
   "outputs": [
    {
     "name": "stdout",
     "output_type": "stream",
     "text": [
      "Diabetes and gender is not independent with P-val = 0.00.\n"
     ]
    }
   ],
   "source": [
    "# Perform the independence test\n",
    "\n",
    "independence_test('gender')"
   ]
  },
  {
   "cell_type": "code",
   "execution_count": null,
   "id": "4fed66fb",
   "metadata": {},
   "outputs": [],
   "source": []
  },
  {
   "cell_type": "code",
   "execution_count": null,
   "id": "439378a3",
   "metadata": {},
   "outputs": [],
   "source": []
  },
  {
   "cell_type": "markdown",
   "id": "8819040f",
   "metadata": {},
   "source": [
    "### 3.2. Predictor 2: 'age'"
   ]
  },
  {
   "cell_type": "code",
   "execution_count": 26,
   "id": "e6a9060f",
   "metadata": {},
   "outputs": [
    {
     "data": {
      "text/plain": [
       "<AxesSubplot:xlabel='age', ylabel='Count'>"
      ]
     },
     "execution_count": 26,
     "metadata": {},
     "output_type": "execute_result"
    },
    {
     "data": {
      "image/png": "[encoded data removed]",
      "text/plain": [
       "<Figure size 640x480 with 1 Axes>"
      ]
     },
     "metadata": {},
     "output_type": "display_data"
    }
   ],
   "source": [
    "# Distribution plot of 'age'\n",
    "sns.histplot(data = data_train,\n",
    "             x = 'age',\n",
    "             kde = True)"
   ]
  },
  {
   "cell_type": "code",
   "execution_count": 27,
   "id": "d4814a51",
   "metadata": {},
   "outputs": [
    {
     "data": {
      "text/html": [
       "<div>\n",
       "<style scoped>\n",
       "    .dataframe tbody tr th:only-of-type {\n",
       "        vertical-align: middle;\n",
       "    }\n",
       "\n",
       "    .dataframe tbody tr th {\n",
       "        vertical-align: top;\n",
       "    }\n",
       "\n",
       "    .dataframe thead th {\n",
       "        text-align: right;\n",
       "    }\n",
       "</style>\n",
       "<table border=\"1\" class=\"dataframe\">\n",
       "  <thead>\n",
       "    <tr style=\"text-align: right;\">\n",
       "      <th></th>\n",
       "      <th>count</th>\n",
       "      <th>mean</th>\n",
       "      <th>std</th>\n",
       "      <th>min</th>\n",
       "      <th>25%</th>\n",
       "      <th>50%</th>\n",
       "      <th>75%</th>\n",
       "      <th>max</th>\n",
       "    </tr>\n",
       "    <tr>\n",
       "      <th>diabetes</th>\n",
       "      <th></th>\n",
       "      <th></th>\n",
       "      <th></th>\n",
       "      <th></th>\n",
       "      <th></th>\n",
       "      <th></th>\n",
       "      <th></th>\n",
       "      <th></th>\n",
       "    </tr>\n",
       "  </thead>\n",
       "  <tbody>\n",
       "    <tr>\n",
       "      <th>0</th>\n",
       "      <td>58490.0</td>\n",
       "      <td>39.928635</td>\n",
       "      <td>22.437842</td>\n",
       "      <td>0.08</td>\n",
       "      <td>22.0</td>\n",
       "      <td>40.0</td>\n",
       "      <td>57.0</td>\n",
       "      <td>80.0</td>\n",
       "    </tr>\n",
       "    <tr>\n",
       "      <th>1</th>\n",
       "      <td>3233.0</td>\n",
       "      <td>62.079802</td>\n",
       "      <td>14.783414</td>\n",
       "      <td>3.00</td>\n",
       "      <td>54.0</td>\n",
       "      <td>64.0</td>\n",
       "      <td>74.0</td>\n",
       "      <td>80.0</td>\n",
       "    </tr>\n",
       "  </tbody>\n",
       "</table>\n",
       "</div>"
      ],
      "text/plain": [
       "            count       mean        std   min   25%   50%   75%   max\n",
       "diabetes                                                             \n",
       "0         58490.0  39.928635  22.437842  0.08  22.0  40.0  57.0  80.0\n",
       "1          3233.0  62.079802  14.783414  3.00  54.0  64.0  74.0  80.0"
      ]
     },
     "execution_count": 27,
     "metadata": {},
     "output_type": "execute_result"
    }
   ],
   "source": [
    "# Descriptive of 'age' by 'diabetes'\n",
    "\n",
    "data_train['age'].groupby(data_train['diabetes']).describe()"
   ]
  },
  {
   "cell_type": "code",
   "execution_count": 28,
   "id": "65035e03",
   "metadata": {},
   "outputs": [
    {
     "data": {
      "text/plain": [
       "<AxesSubplot:xlabel='diabetes', ylabel='age'>"
      ]
     },
     "execution_count": 28,
     "metadata": {},
     "output_type": "execute_result"
    },
    {
     "data": {
      "image/png": "[encoded data removed]",
      "text/plain": [
       "<Figure size 640x480 with 1 Axes>"
      ]
     },
     "metadata": {},
     "output_type": "display_data"
    }
   ],
   "source": [
    "# Boxplot of 'age' by 'diabetes'\n",
    "\n",
    "sns.boxplot(data_train['diabetes'], data_train['age'], palette = 'pastel')"
   ]
  },
  {
   "cell_type": "code",
   "execution_count": 29,
   "id": "7b7f998f",
   "metadata": {},
   "outputs": [
    {
     "data": {
      "text/plain": [
       "<AxesSubplot:xlabel='age', ylabel='diabetes'>"
      ]
     },
     "execution_count": 29,
     "metadata": {},
     "output_type": "execute_result"
    },
    {
     "data": {
      "image/png": "[encoded data removed]",
      "text/plain": [
       "<Figure size 640x480 with 1 Axes>"
      ]
     },
     "metadata": {},
     "output_type": "display_data"
    }
   ],
   "source": [
    "# Check for the perfect separation\n",
    "sns.scatterplot(data = data_train,\n",
    "                x = 'age',\n",
    "                y = 'diabetes',\n",
    "                hue = 'diabetes',\n",
    "                palette = 'pastel')"
   ]
  },
  {
   "cell_type": "code",
   "execution_count": null,
   "id": "5a17adf9",
   "metadata": {},
   "outputs": [],
   "source": []
  },
  {
   "cell_type": "code",
   "execution_count": null,
   "id": "52954023",
   "metadata": {},
   "outputs": [],
   "source": []
  },
  {
   "cell_type": "markdown",
   "id": "0297093f",
   "metadata": {},
   "source": [
    "### 3.3. Predictor 3: 'hypertension'"
   ]
  },
  {
   "cell_type": "code",
   "execution_count": 30,
   "id": "7bc79430",
   "metadata": {},
   "outputs": [
    {
     "data": {
      "text/plain": [
       "<AxesSubplot:xlabel='hypertension', ylabel='count'>"
      ]
     },
     "execution_count": 30,
     "metadata": {},
     "output_type": "execute_result"
    },
    {
     "data": {
      "image/png": "[encoded data removed]",
      "text/plain": [
       "<Figure size 640x480 with 1 Axes>"
      ]
     },
     "metadata": {},
     "output_type": "display_data"
    }
   ],
   "source": [
    "# Distribution plot of 'hypertension'\n",
    "sns.countplot(data = data_train,\n",
    "             x = 'hypertension',\n",
    "             hue = 'diabetes',\n",
    "             palette = 'pastel')"
   ]
  },
  {
   "cell_type": "code",
   "execution_count": 31,
   "id": "52bd66e8",
   "metadata": {},
   "outputs": [
    {
     "data": {
      "text/plain": [
       "0    0.931355\n",
       "1    0.068645\n",
       "Name: hypertension, dtype: float64"
      ]
     },
     "execution_count": 31,
     "metadata": {},
     "output_type": "execute_result"
    }
   ],
   "source": [
    "# Describe proportion of 'hypertension'\n",
    "\n",
    "data_train['hypertension'].value_counts(normalize = True)"
   ]
  },
  {
   "cell_type": "code",
   "execution_count": 32,
   "id": "2f362890",
   "metadata": {},
   "outputs": [
    {
     "name": "stdout",
     "output_type": "stream",
     "text": [
      "Diabetes and hypertension is not independent with P-val = 0.00.\n"
     ]
    }
   ],
   "source": [
    "# Perform the independence test\n",
    "\n",
    "independence_test('hypertension')"
   ]
  },
  {
   "cell_type": "code",
   "execution_count": null,
   "id": "12173dc6",
   "metadata": {},
   "outputs": [],
   "source": []
  },
  {
   "cell_type": "code",
   "execution_count": null,
   "id": "0fb0d492",
   "metadata": {},
   "outputs": [],
   "source": []
  },
  {
   "cell_type": "markdown",
   "id": "0e45e000",
   "metadata": {},
   "source": [
    "### 3.4. Predictor 4: 'heart_disease'"
   ]
  },
  {
   "cell_type": "code",
   "execution_count": 33,
   "id": "cf64055f",
   "metadata": {},
   "outputs": [
    {
     "data": {
      "text/plain": [
       "<AxesSubplot:xlabel='heart_disease', ylabel='count'>"
      ]
     },
     "execution_count": 33,
     "metadata": {},
     "output_type": "execute_result"
    },
    {
     "data": {
      "image/png": "[encoded data removed]",
      "text/plain": [
       "<Figure size 640x480 with 1 Axes>"
      ]
     },
     "metadata": {},
     "output_type": "display_data"
    }
   ],
   "source": [
    "# Distribution plot of 'heart_disease'\n",
    "sns.countplot(data = data_train,\n",
    "             x = 'heart_disease',\n",
    "             hue = 'diabetes',\n",
    "             palette = 'pastel')"
   ]
  },
  {
   "cell_type": "code",
   "execution_count": 34,
   "id": "0872e86a",
   "metadata": {},
   "outputs": [
    {
     "data": {
      "text/plain": [
       "0    0.963417\n",
       "1    0.036583\n",
       "Name: heart_disease, dtype: float64"
      ]
     },
     "execution_count": 34,
     "metadata": {},
     "output_type": "execute_result"
    }
   ],
   "source": [
    "# Describe proportion of 'heart_disease'\n",
    "\n",
    "data_train['heart_disease'].value_counts(normalize = True)"
   ]
  },
  {
   "cell_type": "code",
   "execution_count": 35,
   "id": "f39bce37",
   "metadata": {},
   "outputs": [
    {
     "name": "stdout",
     "output_type": "stream",
     "text": [
      "Diabetes and heart_disease is not independent with P-val = 0.00.\n"
     ]
    }
   ],
   "source": [
    "# Perform the independence test\n",
    "\n",
    "independence_test('heart_disease')"
   ]
  },
  {
   "cell_type": "code",
   "execution_count": null,
   "id": "e3889f93",
   "metadata": {},
   "outputs": [],
   "source": []
  },
  {
   "cell_type": "code",
   "execution_count": null,
   "id": "d11aec12",
   "metadata": {},
   "outputs": [],
   "source": []
  },
  {
   "cell_type": "markdown",
   "id": "a7b097f4",
   "metadata": {},
   "source": [
    "### 3.5. Predictor 5: 'smoking'"
   ]
  },
  {
   "cell_type": "code",
   "execution_count": 36,
   "id": "fcef5cde",
   "metadata": {},
   "outputs": [
    {
     "data": {
      "text/plain": [
       "never          0.354989\n",
       "No Info        0.351149\n",
       "current        0.095588\n",
       "former         0.091911\n",
       "not current    0.065438\n",
       "ever           0.040925\n",
       "Name: smoking, dtype: float64"
      ]
     },
     "execution_count": 36,
     "metadata": {},
     "output_type": "execute_result"
    }
   ],
   "source": [
    "# Describe proportion of 'smoking'\n",
    "\n",
    "data_train['smoking'].value_counts(normalize = True)"
   ]
  },
  {
   "cell_type": "code",
   "execution_count": 37,
   "id": "96eedfc8",
   "metadata": {},
   "outputs": [
    {
     "data": {
      "text/plain": [
       "<AxesSubplot:xlabel='smoking', ylabel='count'>"
      ]
     },
     "execution_count": 37,
     "metadata": {},
     "output_type": "execute_result"
    },
    {
     "data": {
      "image/png": "[encoded data removed]",
      "text/plain": [
       "<Figure size 640x480 with 1 Axes>"
      ]
     },
     "metadata": {},
     "output_type": "display_data"
    }
   ],
   "source": [
    "# Distribution plot of 'smoking'\n",
    "sns.countplot(data = data_train,\n",
    "             x = 'smoking',\n",
    "             hue = 'diabetes',\n",
    "             palette = 'pastel')"
   ]
  },
  {
   "cell_type": "code",
   "execution_count": 38,
   "id": "f147cd4e",
   "metadata": {},
   "outputs": [
    {
     "name": "stdout",
     "output_type": "stream",
     "text": [
      "Diabetes and smoking is not independent with P-val = 0.00.\n"
     ]
    }
   ],
   "source": [
    "# Perform the independence test\n",
    "\n",
    "independence_test('smoking')"
   ]
  },
  {
   "cell_type": "code",
   "execution_count": null,
   "id": "c4f58e65",
   "metadata": {},
   "outputs": [],
   "source": []
  },
  {
   "cell_type": "code",
   "execution_count": null,
   "id": "f9cf12c7",
   "metadata": {},
   "outputs": [],
   "source": []
  },
  {
   "cell_type": "markdown",
   "id": "fa5c2b2c",
   "metadata": {},
   "source": [
    "### 3.6. Predictor 6: 'bmi'"
   ]
  },
  {
   "cell_type": "code",
   "execution_count": 39,
   "id": "aff2b085",
   "metadata": {},
   "outputs": [
    {
     "data": {
      "text/plain": [
       "<AxesSubplot:xlabel='bmi', ylabel='Count'>"
      ]
     },
     "execution_count": 39,
     "metadata": {},
     "output_type": "execute_result"
    },
    {
     "data": {
      "image/png": "[encoded data removed]",
      "text/plain": [
       "<Figure size 640x480 with 1 Axes>"
      ]
     },
     "metadata": {},
     "output_type": "display_data"
    }
   ],
   "source": [
    "# Distribution plot of 'bmi'\n",
    "sns.histplot(data = data_train,\n",
    "             x = 'bmi',\n",
    "             kde = True)"
   ]
  },
  {
   "cell_type": "code",
   "execution_count": 40,
   "id": "3dafe976",
   "metadata": {},
   "outputs": [
    {
     "data": {
      "text/html": [
       "<div>\n",
       "<style scoped>\n",
       "    .dataframe tbody tr th:only-of-type {\n",
       "        vertical-align: middle;\n",
       "    }\n",
       "\n",
       "    .dataframe tbody tr th {\n",
       "        vertical-align: top;\n",
       "    }\n",
       "\n",
       "    .dataframe thead th {\n",
       "        text-align: right;\n",
       "    }\n",
       "</style>\n",
       "<table border=\"1\" class=\"dataframe\">\n",
       "  <thead>\n",
       "    <tr style=\"text-align: right;\">\n",
       "      <th></th>\n",
       "      <th>count</th>\n",
       "      <th>mean</th>\n",
       "      <th>std</th>\n",
       "      <th>min</th>\n",
       "      <th>25%</th>\n",
       "      <th>50%</th>\n",
       "      <th>75%</th>\n",
       "      <th>max</th>\n",
       "    </tr>\n",
       "    <tr>\n",
       "      <th>diabetes</th>\n",
       "      <th></th>\n",
       "      <th></th>\n",
       "      <th></th>\n",
       "      <th></th>\n",
       "      <th></th>\n",
       "      <th></th>\n",
       "      <th></th>\n",
       "      <th></th>\n",
       "    </tr>\n",
       "  </thead>\n",
       "  <tbody>\n",
       "    <tr>\n",
       "      <th>0</th>\n",
       "      <td>58490.0</td>\n",
       "      <td>26.122602</td>\n",
       "      <td>5.185073</td>\n",
       "      <td>13.71</td>\n",
       "      <td>22.82</td>\n",
       "      <td>27.32</td>\n",
       "      <td>28.35</td>\n",
       "      <td>39.55</td>\n",
       "    </tr>\n",
       "    <tr>\n",
       "      <th>1</th>\n",
       "      <td>3233.0</td>\n",
       "      <td>29.548729</td>\n",
       "      <td>4.548296</td>\n",
       "      <td>13.78</td>\n",
       "      <td>27.32</td>\n",
       "      <td>28.34</td>\n",
       "      <td>32.98</td>\n",
       "      <td>39.55</td>\n",
       "    </tr>\n",
       "  </tbody>\n",
       "</table>\n",
       "</div>"
      ],
      "text/plain": [
       "            count       mean       std    min    25%    50%    75%    max\n",
       "diabetes                                                                 \n",
       "0         58490.0  26.122602  5.185073  13.71  22.82  27.32  28.35  39.55\n",
       "1          3233.0  29.548729  4.548296  13.78  27.32  28.34  32.98  39.55"
      ]
     },
     "execution_count": 40,
     "metadata": {},
     "output_type": "execute_result"
    }
   ],
   "source": [
    "# Descriptive of 'bmi' by 'diabetes'\n",
    "\n",
    "data_train['bmi'].groupby(data_train['diabetes']).describe()"
   ]
  },
  {
   "cell_type": "code",
   "execution_count": 41,
   "id": "35294ad8",
   "metadata": {},
   "outputs": [
    {
     "data": {
      "text/plain": [
       "<AxesSubplot:xlabel='diabetes', ylabel='bmi'>"
      ]
     },
     "execution_count": 41,
     "metadata": {},
     "output_type": "execute_result"
    },
    {
     "data": {
      "image/png": "[encoded data removed]",
      "text/plain": [
       "<Figure size 640x480 with 1 Axes>"
      ]
     },
     "metadata": {},
     "output_type": "display_data"
    }
   ],
   "source": [
    "# Boxplot of 'bmi' by 'diabetes'\n",
    "\n",
    "sns.boxplot(data_train['diabetes'], data_train['bmi'], palette = 'pastel')"
   ]
  },
  {
   "cell_type": "code",
   "execution_count": 42,
   "id": "78e460fa",
   "metadata": {},
   "outputs": [
    {
     "data": {
      "text/plain": [
       "<AxesSubplot:xlabel='bmi', ylabel='diabetes'>"
      ]
     },
     "execution_count": 42,
     "metadata": {},
     "output_type": "execute_result"
    },
    {
     "data": {
      "image/png": "[encoded data removed]",
      "text/plain": [
       "<Figure size 640x480 with 1 Axes>"
      ]
     },
     "metadata": {},
     "output_type": "display_data"
    }
   ],
   "source": [
    "# Check for the perfect separation\n",
    "sns.scatterplot(data = data_train,\n",
    "                x = 'bmi',\n",
    "                y = 'diabetes',\n",
    "                hue = 'diabetes',\n",
    "                palette = 'pastel')"
   ]
  },
  {
   "cell_type": "code",
   "execution_count": null,
   "id": "1252b30b",
   "metadata": {},
   "outputs": [],
   "source": []
  },
  {
   "cell_type": "code",
   "execution_count": null,
   "id": "8b278ead",
   "metadata": {},
   "outputs": [],
   "source": []
  },
  {
   "cell_type": "markdown",
   "id": "b7c59d7c",
   "metadata": {},
   "source": [
    "### 3.7. Predictor 7: 'HbA1c'"
   ]
  },
  {
   "cell_type": "code",
   "execution_count": 43,
   "id": "640fce55",
   "metadata": {},
   "outputs": [
    {
     "data": {
      "text/plain": [
       "<AxesSubplot:xlabel='HbA1c', ylabel='Count'>"
      ]
     },
     "execution_count": 43,
     "metadata": {},
     "output_type": "execute_result"
    },
    {
     "data": {
      "image/png": "[encoded data removed]",
      "text/plain": [
       "<Figure size 640x480 with 1 Axes>"
      ]
     },
     "metadata": {},
     "output_type": "display_data"
    }
   ],
   "source": [
    "# Distribution plot of 'HbA1c'\n",
    "sns.histplot(data = data_train,\n",
    "             x = 'HbA1c',\n",
    "             kde = True)"
   ]
  },
  {
   "cell_type": "code",
   "execution_count": 44,
   "id": "e0259fa2",
   "metadata": {},
   "outputs": [
    {
     "data": {
      "text/html": [
       "<div>\n",
       "<style scoped>\n",
       "    .dataframe tbody tr th:only-of-type {\n",
       "        vertical-align: middle;\n",
       "    }\n",
       "\n",
       "    .dataframe tbody tr th {\n",
       "        vertical-align: top;\n",
       "    }\n",
       "\n",
       "    .dataframe thead th {\n",
       "        text-align: right;\n",
       "    }\n",
       "</style>\n",
       "<table border=\"1\" class=\"dataframe\">\n",
       "  <thead>\n",
       "    <tr style=\"text-align: right;\">\n",
       "      <th></th>\n",
       "      <th>count</th>\n",
       "      <th>mean</th>\n",
       "      <th>std</th>\n",
       "      <th>min</th>\n",
       "      <th>25%</th>\n",
       "      <th>50%</th>\n",
       "      <th>75%</th>\n",
       "      <th>max</th>\n",
       "    </tr>\n",
       "    <tr>\n",
       "      <th>diabetes</th>\n",
       "      <th></th>\n",
       "      <th></th>\n",
       "      <th></th>\n",
       "      <th></th>\n",
       "      <th></th>\n",
       "      <th></th>\n",
       "      <th></th>\n",
       "      <th></th>\n",
       "    </tr>\n",
       "  </thead>\n",
       "  <tbody>\n",
       "    <tr>\n",
       "      <th>0</th>\n",
       "      <td>58490.0</td>\n",
       "      <td>5.395886</td>\n",
       "      <td>0.972353</td>\n",
       "      <td>3.5</td>\n",
       "      <td>4.8</td>\n",
       "      <td>5.8</td>\n",
       "      <td>6.2</td>\n",
       "      <td>6.6</td>\n",
       "    </tr>\n",
       "    <tr>\n",
       "      <th>1</th>\n",
       "      <td>3233.0</td>\n",
       "      <td>6.572069</td>\n",
       "      <td>0.727294</td>\n",
       "      <td>5.7</td>\n",
       "      <td>6.0</td>\n",
       "      <td>6.5</td>\n",
       "      <td>7.0</td>\n",
       "      <td>8.2</td>\n",
       "    </tr>\n",
       "  </tbody>\n",
       "</table>\n",
       "</div>"
      ],
      "text/plain": [
       "            count      mean       std  min  25%  50%  75%  max\n",
       "diabetes                                                      \n",
       "0         58490.0  5.395886  0.972353  3.5  4.8  5.8  6.2  6.6\n",
       "1          3233.0  6.572069  0.727294  5.7  6.0  6.5  7.0  8.2"
      ]
     },
     "execution_count": 44,
     "metadata": {},
     "output_type": "execute_result"
    }
   ],
   "source": [
    "# Descriptive of 'HbA1c' by 'diabetes'\n",
    "\n",
    "data_train['HbA1c'].groupby(data_train['diabetes']).describe()"
   ]
  },
  {
   "cell_type": "code",
   "execution_count": 45,
   "id": "e32cff09",
   "metadata": {},
   "outputs": [
    {
     "data": {
      "text/plain": [
       "<AxesSubplot:xlabel='diabetes', ylabel='HbA1c'>"
      ]
     },
     "execution_count": 45,
     "metadata": {},
     "output_type": "execute_result"
    },
    {
     "data": {
      "image/png": "[encoded data removed]",
      "text/plain": [
       "<Figure size 640x480 with 1 Axes>"
      ]
     },
     "metadata": {},
     "output_type": "display_data"
    }
   ],
   "source": [
    "# Boxplot of 'HbA1c' by 'diabetes'\n",
    "\n",
    "sns.boxplot(data_train['diabetes'], data_train['HbA1c'], palette = 'pastel')"
   ]
  },
  {
   "cell_type": "code",
   "execution_count": 46,
   "id": "7d809484",
   "metadata": {},
   "outputs": [
    {
     "data": {
      "text/plain": [
       "<AxesSubplot:xlabel='HbA1c', ylabel='diabetes'>"
      ]
     },
     "execution_count": 46,
     "metadata": {},
     "output_type": "execute_result"
    },
    {
     "data": {
      "image/png": "[encoded data removed]",
      "text/plain": [
       "<Figure size 640x480 with 1 Axes>"
      ]
     },
     "metadata": {},
     "output_type": "display_data"
    }
   ],
   "source": [
    "# Check for the perfect separation\n",
    "sns.scatterplot(data = data_train,\n",
    "                x = 'HbA1c',\n",
    "                y = 'diabetes',\n",
    "                hue = 'diabetes',\n",
    "                palette = 'pastel')"
   ]
  },
  {
   "cell_type": "code",
   "execution_count": null,
   "id": "b86749c2",
   "metadata": {},
   "outputs": [],
   "source": []
  },
  {
   "cell_type": "code",
   "execution_count": null,
   "id": "752caaa8",
   "metadata": {},
   "outputs": [],
   "source": []
  },
  {
   "cell_type": "markdown",
   "id": "ec1107a5",
   "metadata": {},
   "source": [
    "### 3.8. Predictor 8: 'glucose'"
   ]
  },
  {
   "cell_type": "code",
   "execution_count": 47,
   "id": "f2bc9b9e",
   "metadata": {},
   "outputs": [
    {
     "data": {
      "text/plain": [
       "<AxesSubplot:xlabel='glucose', ylabel='Count'>"
      ]
     },
     "execution_count": 47,
     "metadata": {},
     "output_type": "execute_result"
    },
    {
     "data": {
      "image/png": "[encoded data removed]",
      "text/plain": [
       "<Figure size 640x480 with 1 Axes>"
      ]
     },
     "metadata": {},
     "output_type": "display_data"
    }
   ],
   "source": [
    "# Distribution plot of 'glucose'\n",
    "sns.histplot(data = data_train,\n",
    "             x = 'glucose',\n",
    "             kde = True)"
   ]
  },
  {
   "cell_type": "code",
   "execution_count": 48,
   "id": "51d8e80d",
   "metadata": {},
   "outputs": [
    {
     "data": {
      "text/html": [
       "<div>\n",
       "<style scoped>\n",
       "    .dataframe tbody tr th:only-of-type {\n",
       "        vertical-align: middle;\n",
       "    }\n",
       "\n",
       "    .dataframe tbody tr th {\n",
       "        vertical-align: top;\n",
       "    }\n",
       "\n",
       "    .dataframe thead th {\n",
       "        text-align: right;\n",
       "    }\n",
       "</style>\n",
       "<table border=\"1\" class=\"dataframe\">\n",
       "  <thead>\n",
       "    <tr style=\"text-align: right;\">\n",
       "      <th></th>\n",
       "      <th>count</th>\n",
       "      <th>mean</th>\n",
       "      <th>std</th>\n",
       "      <th>min</th>\n",
       "      <th>25%</th>\n",
       "      <th>50%</th>\n",
       "      <th>75%</th>\n",
       "      <th>max</th>\n",
       "    </tr>\n",
       "    <tr>\n",
       "      <th>diabetes</th>\n",
       "      <th></th>\n",
       "      <th></th>\n",
       "      <th></th>\n",
       "      <th></th>\n",
       "      <th></th>\n",
       "      <th></th>\n",
       "      <th></th>\n",
       "      <th></th>\n",
       "    </tr>\n",
       "  </thead>\n",
       "  <tbody>\n",
       "    <tr>\n",
       "      <th>0</th>\n",
       "      <td>58490.0</td>\n",
       "      <td>132.825799</td>\n",
       "      <td>34.254956</td>\n",
       "      <td>80.0</td>\n",
       "      <td>100.0</td>\n",
       "      <td>140.0</td>\n",
       "      <td>158.0</td>\n",
       "      <td>200.0</td>\n",
       "    </tr>\n",
       "    <tr>\n",
       "      <th>1</th>\n",
       "      <td>3233.0</td>\n",
       "      <td>167.165481</td>\n",
       "      <td>37.087769</td>\n",
       "      <td>126.0</td>\n",
       "      <td>140.0</td>\n",
       "      <td>159.0</td>\n",
       "      <td>200.0</td>\n",
       "      <td>240.0</td>\n",
       "    </tr>\n",
       "  </tbody>\n",
       "</table>\n",
       "</div>"
      ],
      "text/plain": [
       "            count        mean        std    min    25%    50%    75%    max\n",
       "diabetes                                                                   \n",
       "0         58490.0  132.825799  34.254956   80.0  100.0  140.0  158.0  200.0\n",
       "1          3233.0  167.165481  37.087769  126.0  140.0  159.0  200.0  240.0"
      ]
     },
     "execution_count": 48,
     "metadata": {},
     "output_type": "execute_result"
    }
   ],
   "source": [
    "# Descriptive of 'glucose' by 'diabetes'\n",
    "\n",
    "data_train['glucose'].groupby(data_train['diabetes']).describe()"
   ]
  },
  {
   "cell_type": "code",
   "execution_count": 49,
   "id": "4b893208",
   "metadata": {},
   "outputs": [
    {
     "data": {
      "text/plain": [
       "<AxesSubplot:xlabel='diabetes', ylabel='glucose'>"
      ]
     },
     "execution_count": 49,
     "metadata": {},
     "output_type": "execute_result"
    },
    {
     "data": {
      "image/png": "[encoded data removed]",
      "text/plain": [
       "<Figure size 640x480 with 1 Axes>"
      ]
     },
     "metadata": {},
     "output_type": "display_data"
    }
   ],
   "source": [
    "# Boxplot of 'HbA1c' by 'diabetes'\n",
    "\n",
    "sns.boxplot(data_train['diabetes'], data_train['glucose'], palette = 'pastel')"
   ]
  },
  {
   "cell_type": "code",
   "execution_count": 50,
   "id": "a8b0fc1e",
   "metadata": {},
   "outputs": [
    {
     "data": {
      "text/plain": [
       "<AxesSubplot:xlabel='glucose', ylabel='diabetes'>"
      ]
     },
     "execution_count": 50,
     "metadata": {},
     "output_type": "execute_result"
    },
    {
     "data": {
      "image/png": "[encoded data removed]",
      "text/plain": [
       "<Figure size 640x480 with 1 Axes>"
      ]
     },
     "metadata": {},
     "output_type": "display_data"
    }
   ],
   "source": [
    "# Check for the perfect separation\n",
    "sns.scatterplot(data = data_train,\n",
    "                x = 'glucose',\n",
    "                y = 'diabetes',\n",
    "                hue = 'diabetes',\n",
    "                palette = 'pastel')"
   ]
  },
  {
   "cell_type": "code",
   "execution_count": null,
   "id": "9ced4a5e",
   "metadata": {},
   "outputs": [],
   "source": []
  },
  {
   "cell_type": "code",
   "execution_count": null,
   "id": "47e68553",
   "metadata": {},
   "outputs": [],
   "source": []
  },
  {
   "cell_type": "markdown",
   "id": "3390e094",
   "metadata": {},
   "source": [
    "## 4. Pre-processing train data"
   ]
  },
  {
   "cell_type": "markdown",
   "id": "f6f333d8",
   "metadata": {},
   "source": [
    "### 4.1. Replace 'No Info' with 'never' in smoking column"
   ]
  },
  {
   "cell_type": "code",
   "execution_count": 51,
   "id": "68fa0fb1",
   "metadata": {},
   "outputs": [
    {
     "data": {
      "text/plain": [
       "never          43585\n",
       "current         5900\n",
       "former          5673\n",
       "not current     4039\n",
       "ever            2526\n",
       "Name: smoking, dtype: int64"
      ]
     },
     "execution_count": 51,
     "metadata": {},
     "output_type": "execute_result"
    }
   ],
   "source": [
    "# Replace No Info with never\n",
    "data_train.replace(to_replace = \"No Info\",\n",
    "                   value = \"never\",\n",
    "                   inplace = True)\n",
    "\n",
    "data_train['smoking'].value_counts()"
   ]
  },
  {
   "cell_type": "markdown",
   "id": "880821ac",
   "metadata": {},
   "source": [
    "### 4.2. Create dummies"
   ]
  },
  {
   "cell_type": "code",
   "execution_count": 52,
   "id": "f48e7f3a",
   "metadata": {},
   "outputs": [
    {
     "data": {
      "text/html": [
       "<div>\n",
       "<style scoped>\n",
       "    .dataframe tbody tr th:only-of-type {\n",
       "        vertical-align: middle;\n",
       "    }\n",
       "\n",
       "    .dataframe tbody tr th {\n",
       "        vertical-align: top;\n",
       "    }\n",
       "\n",
       "    .dataframe thead th {\n",
       "        text-align: right;\n",
       "    }\n",
       "</style>\n",
       "<table border=\"1\" class=\"dataframe\">\n",
       "  <thead>\n",
       "    <tr style=\"text-align: right;\">\n",
       "      <th></th>\n",
       "      <th>gender</th>\n",
       "      <th>age</th>\n",
       "      <th>hypertension</th>\n",
       "      <th>heart_disease</th>\n",
       "      <th>smoking</th>\n",
       "      <th>bmi</th>\n",
       "      <th>HbA1c</th>\n",
       "      <th>glucose</th>\n",
       "      <th>diabetes</th>\n",
       "    </tr>\n",
       "  </thead>\n",
       "  <tbody>\n",
       "    <tr>\n",
       "      <th>10474</th>\n",
       "      <td>Male</td>\n",
       "      <td>27.0</td>\n",
       "      <td>0</td>\n",
       "      <td>0</td>\n",
       "      <td>never</td>\n",
       "      <td>21.23</td>\n",
       "      <td>3.5</td>\n",
       "      <td>145</td>\n",
       "      <td>0</td>\n",
       "    </tr>\n",
       "    <tr>\n",
       "      <th>92174</th>\n",
       "      <td>Male</td>\n",
       "      <td>12.0</td>\n",
       "      <td>0</td>\n",
       "      <td>0</td>\n",
       "      <td>never</td>\n",
       "      <td>19.72</td>\n",
       "      <td>4.5</td>\n",
       "      <td>158</td>\n",
       "      <td>0</td>\n",
       "    </tr>\n",
       "    <tr>\n",
       "      <th>2351</th>\n",
       "      <td>Female</td>\n",
       "      <td>48.0</td>\n",
       "      <td>0</td>\n",
       "      <td>0</td>\n",
       "      <td>never</td>\n",
       "      <td>27.90</td>\n",
       "      <td>5.8</td>\n",
       "      <td>140</td>\n",
       "      <td>0</td>\n",
       "    </tr>\n",
       "    <tr>\n",
       "      <th>82543</th>\n",
       "      <td>Female</td>\n",
       "      <td>61.0</td>\n",
       "      <td>0</td>\n",
       "      <td>0</td>\n",
       "      <td>never</td>\n",
       "      <td>19.47</td>\n",
       "      <td>5.0</td>\n",
       "      <td>160</td>\n",
       "      <td>0</td>\n",
       "    </tr>\n",
       "    <tr>\n",
       "      <th>85789</th>\n",
       "      <td>Female</td>\n",
       "      <td>29.0</td>\n",
       "      <td>0</td>\n",
       "      <td>0</td>\n",
       "      <td>never</td>\n",
       "      <td>24.36</td>\n",
       "      <td>6.2</td>\n",
       "      <td>145</td>\n",
       "      <td>0</td>\n",
       "    </tr>\n",
       "  </tbody>\n",
       "</table>\n",
       "</div>"
      ],
      "text/plain": [
       "       gender   age  hypertension  heart_disease smoking    bmi  HbA1c  \\\n",
       "10474    Male  27.0             0              0   never  21.23    3.5   \n",
       "92174    Male  12.0             0              0   never  19.72    4.5   \n",
       "2351   Female  48.0             0              0   never  27.90    5.8   \n",
       "82543  Female  61.0             0              0   never  19.47    5.0   \n",
       "85789  Female  29.0             0              0   never  24.36    6.2   \n",
       "\n",
       "       glucose  diabetes  \n",
       "10474      145         0  \n",
       "92174      158         0  \n",
       "2351       140         0  \n",
       "82543      160         0  \n",
       "85789      145         0  "
      ]
     },
     "execution_count": 52,
     "metadata": {},
     "output_type": "execute_result"
    }
   ],
   "source": [
    "# Table check\n",
    "\n",
    "data_train.head()"
   ]
  },
  {
   "cell_type": "code",
   "execution_count": 53,
   "id": "a6eabcbd",
   "metadata": {},
   "outputs": [
    {
     "name": "stdout",
     "output_type": "stream",
     "text": [
      "<class 'pandas.core.frame.DataFrame'>\n",
      "Int64Index: 61723 entries, 10474 to 43168\n",
      "Data columns (total 9 columns):\n",
      " #   Column         Non-Null Count  Dtype  \n",
      "---  ------         --------------  -----  \n",
      " 0   gender         61723 non-null  object \n",
      " 1   age            61723 non-null  float64\n",
      " 2   hypertension   61723 non-null  int64  \n",
      " 3   heart_disease  61723 non-null  int64  \n",
      " 4   smoking        61723 non-null  object \n",
      " 5   bmi            61723 non-null  float64\n",
      " 6   HbA1c          61723 non-null  float64\n",
      " 7   glucose        61723 non-null  int64  \n",
      " 8   diabetes       61723 non-null  int64  \n",
      "dtypes: float64(3), int64(4), object(2)\n",
      "memory usage: 6.7+ MB\n"
     ]
    }
   ],
   "source": [
    "# Check data type\n",
    "\n",
    "data_train.info()"
   ]
  },
  {
   "cell_type": "markdown",
   "id": "2b2e3ec4",
   "metadata": {},
   "source": [
    "There are 4 numerical predictors and 4 categorical predictors:\n",
    "- Numerical Predictors\n",
    "  1. `age`\n",
    "  2. `bmi`\n",
    "  3. `HbA1c`\n",
    "  4. `glucose`\n",
    "- Categorical Predictors\n",
    "  1. `gender` (multicategory)\n",
    "  2. `hypertension` (binary)\n",
    "  3. `heart_disease` (binary)\n",
    "  4. `smoking` (multicategory)"
   ]
  },
  {
   "cell_type": "markdown",
   "id": "d06bbe93",
   "metadata": {},
   "source": [
    "- Create dummies for some categorical predictors:\n",
    "  1. `gender` (binary)\n",
    "  2. `smoking_status` (multicategory)"
   ]
  },
  {
   "cell_type": "code",
   "execution_count": 54,
   "id": "e5897d58",
   "metadata": {},
   "outputs": [
    {
     "data": {
      "text/plain": [
       "never          43585\n",
       "current         5900\n",
       "former          5673\n",
       "not current     4039\n",
       "ever            2526\n",
       "Name: smoking, dtype: int64"
      ]
     },
     "execution_count": 54,
     "metadata": {},
     "output_type": "execute_result"
    }
   ],
   "source": [
    "data_train['smoking'].value_counts()"
   ]
  },
  {
   "cell_type": "code",
   "execution_count": 55,
   "id": "2cd4918b",
   "metadata": {},
   "outputs": [],
   "source": [
    "# Create dummy variables for gender (1: Male, 0: Female)\n",
    "data_train[['Male']] = pd.get_dummies(data_train['gender'],\n",
    "                                      drop_first = True)"
   ]
  },
  {
   "cell_type": "code",
   "execution_count": 56,
   "id": "e923f88e",
   "metadata": {},
   "outputs": [],
   "source": [
    "# Create dummy variables for smoking_status (reference: never)\n",
    "data_train[['current',\n",
    "            'former',\n",
    "            'not current',\n",
    "            'ever']] = pd.get_dummies(data_train['smoking'], drop_first = True)"
   ]
  },
  {
   "cell_type": "code",
   "execution_count": 57,
   "id": "1be35cac",
   "metadata": {
    "scrolled": true
   },
   "outputs": [
    {
     "data": {
      "text/plain": [
       "Index(['gender', 'age', 'hypertension', 'heart_disease', 'smoking', 'bmi',\n",
       "       'HbA1c', 'glucose', 'diabetes', 'Male', 'current', 'former',\n",
       "       'not current', 'ever'],\n",
       "      dtype='object')"
      ]
     },
     "execution_count": 57,
     "metadata": {},
     "output_type": "execute_result"
    }
   ],
   "source": [
    "data_train.keys()"
   ]
  },
  {
   "cell_type": "code",
   "execution_count": 58,
   "id": "520d1e31",
   "metadata": {},
   "outputs": [
    {
     "data": {
      "text/html": [
       "<div>\n",
       "<style scoped>\n",
       "    .dataframe tbody tr th:only-of-type {\n",
       "        vertical-align: middle;\n",
       "    }\n",
       "\n",
       "    .dataframe tbody tr th {\n",
       "        vertical-align: top;\n",
       "    }\n",
       "\n",
       "    .dataframe thead th {\n",
       "        text-align: right;\n",
       "    }\n",
       "</style>\n",
       "<table border=\"1\" class=\"dataframe\">\n",
       "  <thead>\n",
       "    <tr style=\"text-align: right;\">\n",
       "      <th></th>\n",
       "      <th>age</th>\n",
       "      <th>hypertension</th>\n",
       "      <th>heart_disease</th>\n",
       "      <th>bmi</th>\n",
       "      <th>HbA1c</th>\n",
       "      <th>glucose</th>\n",
       "      <th>diabetes</th>\n",
       "      <th>Male</th>\n",
       "      <th>current</th>\n",
       "      <th>former</th>\n",
       "      <th>not current</th>\n",
       "      <th>ever</th>\n",
       "    </tr>\n",
       "  </thead>\n",
       "  <tbody>\n",
       "    <tr>\n",
       "      <th>10474</th>\n",
       "      <td>27.0</td>\n",
       "      <td>0</td>\n",
       "      <td>0</td>\n",
       "      <td>21.23</td>\n",
       "      <td>3.5</td>\n",
       "      <td>145</td>\n",
       "      <td>0</td>\n",
       "      <td>1</td>\n",
       "      <td>0</td>\n",
       "      <td>0</td>\n",
       "      <td>1</td>\n",
       "      <td>0</td>\n",
       "    </tr>\n",
       "    <tr>\n",
       "      <th>92174</th>\n",
       "      <td>12.0</td>\n",
       "      <td>0</td>\n",
       "      <td>0</td>\n",
       "      <td>19.72</td>\n",
       "      <td>4.5</td>\n",
       "      <td>158</td>\n",
       "      <td>0</td>\n",
       "      <td>1</td>\n",
       "      <td>0</td>\n",
       "      <td>0</td>\n",
       "      <td>1</td>\n",
       "      <td>0</td>\n",
       "    </tr>\n",
       "    <tr>\n",
       "      <th>2351</th>\n",
       "      <td>48.0</td>\n",
       "      <td>0</td>\n",
       "      <td>0</td>\n",
       "      <td>27.90</td>\n",
       "      <td>5.8</td>\n",
       "      <td>140</td>\n",
       "      <td>0</td>\n",
       "      <td>0</td>\n",
       "      <td>0</td>\n",
       "      <td>0</td>\n",
       "      <td>1</td>\n",
       "      <td>0</td>\n",
       "    </tr>\n",
       "    <tr>\n",
       "      <th>82543</th>\n",
       "      <td>61.0</td>\n",
       "      <td>0</td>\n",
       "      <td>0</td>\n",
       "      <td>19.47</td>\n",
       "      <td>5.0</td>\n",
       "      <td>160</td>\n",
       "      <td>0</td>\n",
       "      <td>0</td>\n",
       "      <td>0</td>\n",
       "      <td>0</td>\n",
       "      <td>1</td>\n",
       "      <td>0</td>\n",
       "    </tr>\n",
       "    <tr>\n",
       "      <th>85789</th>\n",
       "      <td>29.0</td>\n",
       "      <td>0</td>\n",
       "      <td>0</td>\n",
       "      <td>24.36</td>\n",
       "      <td>6.2</td>\n",
       "      <td>145</td>\n",
       "      <td>0</td>\n",
       "      <td>0</td>\n",
       "      <td>0</td>\n",
       "      <td>0</td>\n",
       "      <td>1</td>\n",
       "      <td>0</td>\n",
       "    </tr>\n",
       "  </tbody>\n",
       "</table>\n",
       "</div>"
      ],
      "text/plain": [
       "        age  hypertension  heart_disease    bmi  HbA1c  glucose  diabetes  \\\n",
       "10474  27.0             0              0  21.23    3.5      145         0   \n",
       "92174  12.0             0              0  19.72    4.5      158         0   \n",
       "2351   48.0             0              0  27.90    5.8      140         0   \n",
       "82543  61.0             0              0  19.47    5.0      160         0   \n",
       "85789  29.0             0              0  24.36    6.2      145         0   \n",
       "\n",
       "       Male  current  former  not current  ever  \n",
       "10474     1        0       0            1     0  \n",
       "92174     1        0       0            1     0  \n",
       "2351      0        0       0            1     0  \n",
       "82543     0        0       0            1     0  \n",
       "85789     0        0       0            1     0  "
      ]
     },
     "execution_count": 58,
     "metadata": {},
     "output_type": "execute_result"
    }
   ],
   "source": [
    "# Redefine the training set\n",
    "data_train = data_train[['age', 'hypertension', 'heart_disease', 'bmi',\n",
    "                         'HbA1c', 'glucose', 'diabetes', 'Male',\n",
    "                         'current', 'former', 'not current', 'ever']]\n",
    "\n",
    "data_train.head()"
   ]
  },
  {
   "cell_type": "code",
   "execution_count": null,
   "id": "93a30574",
   "metadata": {},
   "outputs": [],
   "source": []
  },
  {
   "cell_type": "code",
   "execution_count": null,
   "id": "f76a433d",
   "metadata": {},
   "outputs": [],
   "source": []
  },
  {
   "cell_type": "code",
   "execution_count": null,
   "id": "963687ef",
   "metadata": {},
   "outputs": [],
   "source": []
  },
  {
   "cell_type": "code",
   "execution_count": null,
   "id": "e65abcb4",
   "metadata": {},
   "outputs": [],
   "source": []
  },
  {
   "cell_type": "markdown",
   "id": "1725548e",
   "metadata": {},
   "source": [
    "### 4.3. Data balancing"
   ]
  },
  {
   "cell_type": "code",
   "execution_count": 59,
   "id": "41618c78",
   "metadata": {},
   "outputs": [
    {
     "data": {
      "text/plain": [
       "<AxesSubplot:xlabel='diabetes', ylabel='count'>"
      ]
     },
     "execution_count": 59,
     "metadata": {},
     "output_type": "execute_result"
    },
    {
     "data": {
      "image/png": "[encoded data removed]",
      "text/plain": [
       "<Figure size 640x480 with 1 Axes>"
      ]
     },
     "metadata": {},
     "output_type": "display_data"
    }
   ],
   "source": [
    "# Response variable distribution plot\n",
    "\n",
    "sns.countplot('diabetes', data = data_train, palette = 'pastel')"
   ]
  },
  {
   "cell_type": "code",
   "execution_count": 60,
   "id": "8688d97f",
   "metadata": {},
   "outputs": [
    {
     "data": {
      "text/plain": [
       "0    58490\n",
       "1     3233\n",
       "Name: diabetes, dtype: int64"
      ]
     },
     "execution_count": 60,
     "metadata": {},
     "output_type": "execute_result"
    }
   ],
   "source": [
    "# The counts of response variable\n",
    "\n",
    "data_train['diabetes'].value_counts()"
   ]
  },
  {
   "cell_type": "code",
   "execution_count": 61,
   "id": "9aa3dd20",
   "metadata": {},
   "outputs": [
    {
     "name": "stdout",
     "output_type": "stream",
     "text": [
      "Requirement already satisfied: imblearn in c:\\users\\natanael\\anaconda3\\lib\\site-packages (0.0)\n",
      "Requirement already satisfied: imbalanced-learn in c:\\users\\natanael\\anaconda3\\lib\\site-packages (from imblearn) (0.11.0)\n",
      "Requirement already satisfied: scikit-learn>=1.0.2 in c:\\users\\natanael\\anaconda3\\lib\\site-packages (from imbalanced-learn->imblearn) (1.0.2)\n",
      "Requirement already satisfied: numpy>=1.17.3 in c:\\users\\natanael\\anaconda3\\lib\\site-packages (from imbalanced-learn->imblearn) (1.21.5)\n",
      "Requirement already satisfied: joblib>=1.1.1 in c:\\users\\natanael\\anaconda3\\lib\\site-packages (from imbalanced-learn->imblearn) (1.3.2)\n",
      "Requirement already satisfied: scipy>=1.5.0 in c:\\users\\natanael\\anaconda3\\lib\\site-packages (from imbalanced-learn->imblearn) (1.9.1)\n",
      "Requirement already satisfied: threadpoolctl>=2.0.0 in c:\\users\\natanael\\anaconda3\\lib\\site-packages (from imbalanced-learn->imblearn) (2.2.0)\n"
     ]
    }
   ],
   "source": [
    "!pip install imblearn"
   ]
  },
  {
   "cell_type": "markdown",
   "id": "e4b9ecbb",
   "metadata": {},
   "source": [
    "**1. Random Oversampling (ROS)**"
   ]
  },
  {
   "cell_type": "code",
   "execution_count": 62,
   "id": "f22293e5",
   "metadata": {},
   "outputs": [],
   "source": [
    "from imblearn.over_sampling import RandomOverSampler\n",
    "\n",
    "def ros_fit_resample(data_train: pd.DataFrame, response_variable) -> pd.DataFrame:\n",
    "\n",
    "    # Create copy of set data\n",
    "    data_train = data_train.copy()\n",
    "\n",
    "    # Create sampling object\n",
    "    ros = RandomOverSampler(random_state = 73)\n",
    "\n",
    "    # Balancing data set\n",
    "    x_ros, y_ros = ros.fit_resample(data_train.drop([response_variable], axis = 1),\n",
    "                                    data_train[response_variable])\n",
    "\n",
    "    # Concatenate balanced data set\n",
    "    data_train_ros = pd.concat([x_ros, y_ros], axis = 1)\n",
    "\n",
    "    # Return balanced data set\n",
    "    return data_train_ros"
   ]
  },
  {
   "cell_type": "code",
   "execution_count": 63,
   "id": "fc426286",
   "metadata": {},
   "outputs": [],
   "source": [
    "# Perform ROS\n",
    "data_train_ros = ros_fit_resample(data_train = data_train,\n",
    "                                  response_variable = response_variable)"
   ]
  },
  {
   "cell_type": "code",
   "execution_count": 64,
   "id": "9e06b9bb",
   "metadata": {},
   "outputs": [
    {
     "data": {
      "text/plain": [
       "<AxesSubplot:xlabel='diabetes', ylabel='count'>"
      ]
     },
     "execution_count": 64,
     "metadata": {},
     "output_type": "execute_result"
    },
    {
     "data": {
      "image/png": "[encoded data removed]",
      "text/plain": [
       "<Figure size 640x480 with 1 Axes>"
      ]
     },
     "metadata": {},
     "output_type": "display_data"
    }
   ],
   "source": [
    "# Check the proportion of response variable\n",
    "\n",
    "sns.countplot('diabetes', data = data_train_ros, palette = 'pastel')"
   ]
  },
  {
   "cell_type": "code",
   "execution_count": 65,
   "id": "bfda3dca",
   "metadata": {},
   "outputs": [
    {
     "data": {
      "text/plain": [
       "0    58490\n",
       "1    58490\n",
       "Name: diabetes, dtype: int64"
      ]
     },
     "execution_count": 65,
     "metadata": {},
     "output_type": "execute_result"
    }
   ],
   "source": [
    "# Check the balanced response variable\n",
    "\n",
    "data_train_ros['diabetes'].value_counts()"
   ]
  },
  {
   "cell_type": "markdown",
   "id": "5052667a",
   "metadata": {},
   "source": [
    "**2. Random Undersampling (RUS)**"
   ]
  },
  {
   "cell_type": "code",
   "execution_count": 66,
   "id": "205418d5",
   "metadata": {
    "id": "bEha9QN4ravK"
   },
   "outputs": [],
   "source": [
    "from imblearn.under_sampling import RandomUnderSampler\n",
    "\n",
    "def rus_fit_resample(data_train: pd.DataFrame, response_variable) -> pd.DataFrame:\n",
    "\n",
    "    # Create copy of set data\n",
    "    data_train = data_train.copy()\n",
    "\n",
    "    # Create sampling object\n",
    "    rus = RandomUnderSampler(random_state = 73)\n",
    "\n",
    "    # Balancing data set\n",
    "    x_rus, y_rus = rus.fit_resample(data_train.drop([response_variable], axis = 1),\n",
    "                                    data_train[response_variable])\n",
    "\n",
    "    # Concatenate balanced data set\n",
    "    data_train_rus = pd.concat([x_rus, y_rus], axis = 1)\n",
    "\n",
    "    # Return balanced data set\n",
    "    return data_train_rus"
   ]
  },
  {
   "cell_type": "code",
   "execution_count": 67,
   "id": "19e18924",
   "metadata": {
    "id": "W-MbkL1Arn0s"
   },
   "outputs": [],
   "source": [
    "# Perform RUS\n",
    "data_train_rus = rus_fit_resample(data_train = data_train,\n",
    "                                  response_variable = response_variable)"
   ]
  },
  {
   "cell_type": "code",
   "execution_count": 68,
   "id": "d0f65cc5",
   "metadata": {
    "colab": {
     "base_uri": "https://localhost:8080/",
     "height": 466
    },
    "id": "0RoJAr3era6z",
    "outputId": "537c4f66-aad9-403e-b9ae-f3782ec6d2f4"
   },
   "outputs": [
    {
     "data": {
      "text/plain": [
       "<AxesSubplot:xlabel='diabetes', ylabel='count'>"
      ]
     },
     "execution_count": 68,
     "metadata": {},
     "output_type": "execute_result"
    },
    {
     "data": {
      "image/png": "[encoded data removed]",
      "text/plain": [
       "<Figure size 640x480 with 1 Axes>"
      ]
     },
     "metadata": {},
     "output_type": "display_data"
    }
   ],
   "source": [
    "# Check the proportion of response variable\n",
    "\n",
    "sns.countplot('diabetes', data = data_train_rus, palette = 'pastel')"
   ]
  },
  {
   "cell_type": "code",
   "execution_count": 69,
   "id": "ba5e10e4",
   "metadata": {
    "colab": {
     "base_uri": "https://localhost:8080/"
    },
    "id": "oPNUelhMsZXF",
    "outputId": "35876b94-579d-424a-ab9b-05263bc3ea4d"
   },
   "outputs": [
    {
     "data": {
      "text/plain": [
       "0    3233\n",
       "1    3233\n",
       "Name: diabetes, dtype: int64"
      ]
     },
     "execution_count": 69,
     "metadata": {},
     "output_type": "execute_result"
    }
   ],
   "source": [
    "# Check the balanced response variable\n",
    "\n",
    "data_train_rus['diabetes'].value_counts()"
   ]
  },
  {
   "cell_type": "code",
   "execution_count": null,
   "id": "b4fd196a",
   "metadata": {},
   "outputs": [],
   "source": []
  },
  {
   "cell_type": "code",
   "execution_count": null,
   "id": "a7cd64a1",
   "metadata": {},
   "outputs": [],
   "source": []
  },
  {
   "cell_type": "markdown",
   "id": "727d96a5",
   "metadata": {
    "id": "giyBiMl07YYd"
   },
   "source": [
    "## **5. Pre-processing Testing Set**"
   ]
  },
  {
   "cell_type": "markdown",
   "id": "5c2349b3",
   "metadata": {
    "id": "0b0jeYwPxNkE"
   },
   "source": [
    "First, we process the test data according to the pre-processing pipeline in train data."
   ]
  },
  {
   "cell_type": "code",
   "execution_count": 70,
   "id": "73eb63d1",
   "metadata": {
    "colab": {
     "base_uri": "https://localhost:8080/"
    },
    "id": "iNqtRDkcxTu_",
    "outputId": "b7835dc3-cac5-4a69-db65-a79077a3fd12"
   },
   "outputs": [
    {
     "name": "stdout",
     "output_type": "stream",
     "text": [
      "Test data shape: (26459, 9)\n"
     ]
    }
   ],
   "source": [
    "# Concatenate X_test and y_test as data_test\n",
    "data_test = pd.concat((X_test, y_test), axis=1)\n",
    "\n",
    "# Validate data_test\n",
    "print('Test data shape:', data_test.shape)"
   ]
  },
  {
   "cell_type": "code",
   "execution_count": 71,
   "id": "ceb43e57",
   "metadata": {
    "colab": {
     "base_uri": "https://localhost:8080/",
     "height": 394
    },
    "id": "KtVBgsLyxilH",
    "outputId": "f2929896-ad69-48fa-e32b-df4478a43669"
   },
   "outputs": [
    {
     "data": {
      "text/html": [
       "<div>\n",
       "<style scoped>\n",
       "    .dataframe tbody tr th:only-of-type {\n",
       "        vertical-align: middle;\n",
       "    }\n",
       "\n",
       "    .dataframe tbody tr th {\n",
       "        vertical-align: top;\n",
       "    }\n",
       "\n",
       "    .dataframe thead th {\n",
       "        text-align: right;\n",
       "    }\n",
       "</style>\n",
       "<table border=\"1\" class=\"dataframe\">\n",
       "  <thead>\n",
       "    <tr style=\"text-align: right;\">\n",
       "      <th></th>\n",
       "      <th>gender</th>\n",
       "      <th>age</th>\n",
       "      <th>hypertension</th>\n",
       "      <th>heart_disease</th>\n",
       "      <th>smoking</th>\n",
       "      <th>bmi</th>\n",
       "      <th>HbA1c</th>\n",
       "      <th>glucose</th>\n",
       "      <th>diabetes</th>\n",
       "    </tr>\n",
       "  </thead>\n",
       "  <tbody>\n",
       "    <tr>\n",
       "      <th>93469</th>\n",
       "      <td>Female</td>\n",
       "      <td>56.00</td>\n",
       "      <td>0</td>\n",
       "      <td>0</td>\n",
       "      <td>current</td>\n",
       "      <td>27.32</td>\n",
       "      <td>5.7</td>\n",
       "      <td>100</td>\n",
       "      <td>0</td>\n",
       "    </tr>\n",
       "    <tr>\n",
       "      <th>95060</th>\n",
       "      <td>Female</td>\n",
       "      <td>17.00</td>\n",
       "      <td>0</td>\n",
       "      <td>0</td>\n",
       "      <td>No Info</td>\n",
       "      <td>20.93</td>\n",
       "      <td>3.5</td>\n",
       "      <td>80</td>\n",
       "      <td>0</td>\n",
       "    </tr>\n",
       "    <tr>\n",
       "      <th>31969</th>\n",
       "      <td>Female</td>\n",
       "      <td>7.00</td>\n",
       "      <td>0</td>\n",
       "      <td>0</td>\n",
       "      <td>No Info</td>\n",
       "      <td>27.32</td>\n",
       "      <td>5.0</td>\n",
       "      <td>80</td>\n",
       "      <td>0</td>\n",
       "    </tr>\n",
       "    <tr>\n",
       "      <th>59005</th>\n",
       "      <td>Female</td>\n",
       "      <td>1.88</td>\n",
       "      <td>0</td>\n",
       "      <td>0</td>\n",
       "      <td>No Info</td>\n",
       "      <td>16.68</td>\n",
       "      <td>4.0</td>\n",
       "      <td>80</td>\n",
       "      <td>0</td>\n",
       "    </tr>\n",
       "    <tr>\n",
       "      <th>72672</th>\n",
       "      <td>Female</td>\n",
       "      <td>55.00</td>\n",
       "      <td>0</td>\n",
       "      <td>0</td>\n",
       "      <td>current</td>\n",
       "      <td>26.85</td>\n",
       "      <td>6.5</td>\n",
       "      <td>85</td>\n",
       "      <td>0</td>\n",
       "    </tr>\n",
       "  </tbody>\n",
       "</table>\n",
       "</div>"
      ],
      "text/plain": [
       "       gender    age  hypertension  heart_disease  smoking    bmi  HbA1c  \\\n",
       "93469  Female  56.00             0              0  current  27.32    5.7   \n",
       "95060  Female  17.00             0              0  No Info  20.93    3.5   \n",
       "31969  Female   7.00             0              0  No Info  27.32    5.0   \n",
       "59005  Female   1.88             0              0  No Info  16.68    4.0   \n",
       "72672  Female  55.00             0              0  current  26.85    6.5   \n",
       "\n",
       "       glucose  diabetes  \n",
       "93469      100         0  \n",
       "95060       80         0  \n",
       "31969       80         0  \n",
       "59005       80         0  \n",
       "72672       85         0  "
      ]
     },
     "execution_count": 71,
     "metadata": {},
     "output_type": "execute_result"
    }
   ],
   "source": [
    "# Table check\n",
    "data_test.head()"
   ]
  },
  {
   "cell_type": "markdown",
   "id": "6833a005",
   "metadata": {
    "id": "QZjWn7q1wox4"
   },
   "source": [
    "###### 1. Drop gender 'Other'."
   ]
  },
  {
   "cell_type": "code",
   "execution_count": 72,
   "id": "720bc829",
   "metadata": {},
   "outputs": [
    {
     "data": {
      "text/plain": [
       "Female    15353\n",
       "Male      11101\n",
       "Other         5\n",
       "Name: gender, dtype: int64"
      ]
     },
     "execution_count": 72,
     "metadata": {},
     "output_type": "execute_result"
    }
   ],
   "source": [
    "# Describe proportion of 'gender'\n",
    "\n",
    "data_test['gender'].value_counts()"
   ]
  },
  {
   "cell_type": "code",
   "execution_count": 73,
   "id": "1b1c01e3",
   "metadata": {
    "id": "3NgDkof7wxr9"
   },
   "outputs": [],
   "source": [
    "# Drop 'Other' from 'gender'\n",
    "data_test.drop(data_test[(data_test['gender'] == 'Other')].index,\n",
    "               inplace = True)"
   ]
  },
  {
   "cell_type": "code",
   "execution_count": 74,
   "id": "dc3c191d",
   "metadata": {
    "colab": {
     "base_uri": "https://localhost:8080/"
    },
    "id": "g3JBhBB0fkem",
    "outputId": "cac38813-2c74-4677-e332-664b1969879c"
   },
   "outputs": [
    {
     "data": {
      "text/plain": [
       "(26454, 9)"
      ]
     },
     "execution_count": 74,
     "metadata": {},
     "output_type": "execute_result"
    }
   ],
   "source": [
    "data_test.shape"
   ]
  },
  {
   "cell_type": "markdown",
   "id": "9ed34e4f",
   "metadata": {
    "id": "JPhszyOjyhkr"
   },
   "source": [
    "###### 2. Replace 'No Info' with 'never' in smoking column"
   ]
  },
  {
   "cell_type": "code",
   "execution_count": 75,
   "id": "569762cf",
   "metadata": {},
   "outputs": [
    {
     "data": {
      "text/plain": [
       "never          18766\n",
       "former          2460\n",
       "current         2449\n",
       "not current     1717\n",
       "ever            1062\n",
       "Name: smoking, dtype: int64"
      ]
     },
     "execution_count": 75,
     "metadata": {},
     "output_type": "execute_result"
    }
   ],
   "source": [
    "# Replace No Info with never\n",
    "data_test.replace(to_replace = \"No Info\",\n",
    "                   value = \"never\",\n",
    "                   inplace = True)\n",
    "\n",
    "data_test['smoking'].value_counts()"
   ]
  },
  {
   "cell_type": "markdown",
   "id": "b1a0c71e",
   "metadata": {
    "id": "Lsn6DTap8LF4"
   },
   "source": [
    "###### 3. Create dummies\n",
    "\n",
    "- Create dummies for some categorical predictors:\n",
    "  1. `gender` (binary)\n",
    "  2. `smoking_status` (multicategory)"
   ]
  },
  {
   "cell_type": "code",
   "execution_count": 76,
   "id": "f3df5ae9",
   "metadata": {},
   "outputs": [],
   "source": [
    "# Create dummy variables for gender (1: Male, 0: Female)\n",
    "data_test[['Male']] = pd.get_dummies(data_test['gender'],\n",
    "                                      drop_first = True)"
   ]
  },
  {
   "cell_type": "code",
   "execution_count": 77,
   "id": "2e12d6d8",
   "metadata": {},
   "outputs": [],
   "source": [
    "# Create dummy variables for smoking_status (reference: never)\n",
    "data_test[['current',\n",
    "            'former',\n",
    "            'not current',\n",
    "            'ever']] = pd.get_dummies(data_test['smoking'], drop_first = True)"
   ]
  },
  {
   "cell_type": "code",
   "execution_count": 78,
   "id": "d57ecd8b",
   "metadata": {
    "scrolled": true
   },
   "outputs": [
    {
     "data": {
      "text/plain": [
       "Index(['gender', 'age', 'hypertension', 'heart_disease', 'smoking', 'bmi',\n",
       "       'HbA1c', 'glucose', 'diabetes', 'Male', 'current', 'former',\n",
       "       'not current', 'ever'],\n",
       "      dtype='object')"
      ]
     },
     "execution_count": 78,
     "metadata": {},
     "output_type": "execute_result"
    }
   ],
   "source": [
    "data_test.keys()"
   ]
  },
  {
   "cell_type": "code",
   "execution_count": 79,
   "id": "f0bf3697",
   "metadata": {},
   "outputs": [
    {
     "data": {
      "text/html": [
       "<div>\n",
       "<style scoped>\n",
       "    .dataframe tbody tr th:only-of-type {\n",
       "        vertical-align: middle;\n",
       "    }\n",
       "\n",
       "    .dataframe tbody tr th {\n",
       "        vertical-align: top;\n",
       "    }\n",
       "\n",
       "    .dataframe thead th {\n",
       "        text-align: right;\n",
       "    }\n",
       "</style>\n",
       "<table border=\"1\" class=\"dataframe\">\n",
       "  <thead>\n",
       "    <tr style=\"text-align: right;\">\n",
       "      <th></th>\n",
       "      <th>age</th>\n",
       "      <th>hypertension</th>\n",
       "      <th>heart_disease</th>\n",
       "      <th>bmi</th>\n",
       "      <th>HbA1c</th>\n",
       "      <th>glucose</th>\n",
       "      <th>diabetes</th>\n",
       "      <th>Male</th>\n",
       "      <th>current</th>\n",
       "      <th>former</th>\n",
       "      <th>not current</th>\n",
       "      <th>ever</th>\n",
       "    </tr>\n",
       "  </thead>\n",
       "  <tbody>\n",
       "    <tr>\n",
       "      <th>93469</th>\n",
       "      <td>56.00</td>\n",
       "      <td>0</td>\n",
       "      <td>0</td>\n",
       "      <td>27.32</td>\n",
       "      <td>5.7</td>\n",
       "      <td>100</td>\n",
       "      <td>0</td>\n",
       "      <td>0</td>\n",
       "      <td>0</td>\n",
       "      <td>0</td>\n",
       "      <td>0</td>\n",
       "      <td>0</td>\n",
       "    </tr>\n",
       "    <tr>\n",
       "      <th>95060</th>\n",
       "      <td>17.00</td>\n",
       "      <td>0</td>\n",
       "      <td>0</td>\n",
       "      <td>20.93</td>\n",
       "      <td>3.5</td>\n",
       "      <td>80</td>\n",
       "      <td>0</td>\n",
       "      <td>0</td>\n",
       "      <td>0</td>\n",
       "      <td>0</td>\n",
       "      <td>1</td>\n",
       "      <td>0</td>\n",
       "    </tr>\n",
       "    <tr>\n",
       "      <th>31969</th>\n",
       "      <td>7.00</td>\n",
       "      <td>0</td>\n",
       "      <td>0</td>\n",
       "      <td>27.32</td>\n",
       "      <td>5.0</td>\n",
       "      <td>80</td>\n",
       "      <td>0</td>\n",
       "      <td>0</td>\n",
       "      <td>0</td>\n",
       "      <td>0</td>\n",
       "      <td>1</td>\n",
       "      <td>0</td>\n",
       "    </tr>\n",
       "    <tr>\n",
       "      <th>59005</th>\n",
       "      <td>1.88</td>\n",
       "      <td>0</td>\n",
       "      <td>0</td>\n",
       "      <td>16.68</td>\n",
       "      <td>4.0</td>\n",
       "      <td>80</td>\n",
       "      <td>0</td>\n",
       "      <td>0</td>\n",
       "      <td>0</td>\n",
       "      <td>0</td>\n",
       "      <td>1</td>\n",
       "      <td>0</td>\n",
       "    </tr>\n",
       "    <tr>\n",
       "      <th>72672</th>\n",
       "      <td>55.00</td>\n",
       "      <td>0</td>\n",
       "      <td>0</td>\n",
       "      <td>26.85</td>\n",
       "      <td>6.5</td>\n",
       "      <td>85</td>\n",
       "      <td>0</td>\n",
       "      <td>0</td>\n",
       "      <td>0</td>\n",
       "      <td>0</td>\n",
       "      <td>0</td>\n",
       "      <td>0</td>\n",
       "    </tr>\n",
       "  </tbody>\n",
       "</table>\n",
       "</div>"
      ],
      "text/plain": [
       "         age  hypertension  heart_disease    bmi  HbA1c  glucose  diabetes  \\\n",
       "93469  56.00             0              0  27.32    5.7      100         0   \n",
       "95060  17.00             0              0  20.93    3.5       80         0   \n",
       "31969   7.00             0              0  27.32    5.0       80         0   \n",
       "59005   1.88             0              0  16.68    4.0       80         0   \n",
       "72672  55.00             0              0  26.85    6.5       85         0   \n",
       "\n",
       "       Male  current  former  not current  ever  \n",
       "93469     0        0       0            0     0  \n",
       "95060     0        0       0            1     0  \n",
       "31969     0        0       0            1     0  \n",
       "59005     0        0       0            1     0  \n",
       "72672     0        0       0            0     0  "
      ]
     },
     "execution_count": 79,
     "metadata": {},
     "output_type": "execute_result"
    }
   ],
   "source": [
    "# Redefine the training set\n",
    "data_test = data_test[['age', 'hypertension', 'heart_disease', 'bmi',\n",
    "                       'HbA1c', 'glucose', 'diabetes', 'Male',\n",
    "                       'current', 'former', 'not current', 'ever']]\n",
    "\n",
    "data_test.head()"
   ]
  },
  {
   "cell_type": "code",
   "execution_count": 80,
   "id": "5bf7eb17",
   "metadata": {
    "colab": {
     "base_uri": "https://localhost:8080/"
    },
    "id": "Oljz5br-1isj",
    "outputId": "4ae6e3e2-8d1b-4739-dbf5-9106ccfb7d76"
   },
   "outputs": [
    {
     "name": "stdout",
     "output_type": "stream",
     "text": [
      "X_test shape : (26454, 11)\n",
      "y_test shape : (26454,)\n"
     ]
    }
   ],
   "source": [
    "# Split response and predictors\n",
    "X_test = data_test.drop(columns=[response_variable], axis=1)\n",
    "y_test = data_test[response_variable]\n",
    "\n",
    "# Convert dataframe to numpy\n",
    "X_test = X_test.to_numpy()\n",
    "y_test = y_test.to_numpy()\n",
    "\n",
    "# Validate the splitting\n",
    "print('X_test shape :', X_test.shape)\n",
    "print('y_test shape :', y_test.shape)"
   ]
  },
  {
   "cell_type": "markdown",
   "id": "097cefd6",
   "metadata": {},
   "source": [
    "## 6. Model Selection"
   ]
  },
  {
   "cell_type": "markdown",
   "id": "1527ed5e",
   "metadata": {
    "id": "axwm1lgXRZZO"
   },
   "source": [
    "### Load Functions for Model Selection\n",
    "\n",
    "- AIC, KFold, and Forward Selection"
   ]
  },
  {
   "cell_type": "code",
   "execution_count": 81,
   "id": "61c4a6cb",
   "metadata": {
    "id": "gBzBeZBFI9Ri"
   },
   "outputs": [],
   "source": [
    "def AIC(y_true, y_pred, p):\n",
    "    \"\"\"\n",
    "    Parameters\n",
    "    ----------\n",
    "    y_true : {array-like} of shape (n_sample, )\n",
    "        Actual value of response variable.\n",
    "\n",
    "    y_pred : {array-like} of shape (n_sample, 1)\n",
    "        The success probability of X.\n",
    "\n",
    "    p : int\n",
    "        Number of parameters in model.\n",
    "\n",
    "    Returns\n",
    "    -------\n",
    "    aic : float\n",
    "        AIC value.\n",
    "    \"\"\"\n",
    "    # Find the average log likelihood value\n",
    "    llf = np.mean(y_true*np.log(y_pred) + (1-y_true)*np.log(1-y_pred))\n",
    "\n",
    "    # AIC value is sensitive to number of parameters\n",
    "    # The average log likelihood represent value for 1 unit observation\n",
    "    # AIC from average llf is not comparable\n",
    "    # Multiply llf by n_sample=173 to make its AIC comparable\n",
    "    llf *= data_train.shape[0]\n",
    "\n",
    "    # Calculate AIC\n",
    "    aic = -2 * (llf - p)\n",
    "\n",
    "    return aic\n"
   ]
  },
  {
   "cell_type": "code",
   "execution_count": 82,
   "id": "bdc9db49",
   "metadata": {
    "id": "cgPCbrXgImtf"
   },
   "outputs": [],
   "source": [
    "def kfold_split(X, k = 5, random_state = 73):\n",
    "    \"\"\"\n",
    "    Parameters\n",
    "    ----------\n",
    "    X : {array-like} of shape (n_sample, n_predictors)\n",
    "        All predictors set.\n",
    "\n",
    "    k : int,\n",
    "        Number of folds.\n",
    "\n",
    "    random_state : int\n",
    "        Pass an int for reproducible output across multiple function calls.\n",
    "\n",
    "    Returns\n",
    "    -------\n",
    "    train_ind_list : list\n",
    "        Contains data index of train set.\n",
    "\n",
    "    valid_ind_list : list\n",
    "        Contains data index of validation set.\n",
    "    \"\"\"\n",
    "    # Extract sample size\n",
    "    n_samples, _ = X.shape\n",
    "\n",
    "    # Set random state\n",
    "    np.random.seed(random_state)\n",
    "\n",
    "    # # Randomize index\n",
    "    random_ind = np.random.choice(n_samples,\n",
    "                                  size = n_samples,\n",
    "                                  replace = False)\n",
    "\n",
    "    # Calculate size of each fold\n",
    "    fold_sizes = np.ones(k, dtype=int) * (n_samples//k)\n",
    "    fold_sizes[:n_samples%k] += 1\n",
    "\n",
    "    # Define initial list for each train and valid index\n",
    "    train_ind_list = []\n",
    "    valid_ind_list = []\n",
    "\n",
    "    # Split sample\n",
    "    current_ind = 0\n",
    "    for size in fold_sizes:\n",
    "        # Define index\n",
    "        start_ind = current_ind\n",
    "        end_ind = current_ind + size\n",
    "\n",
    "        # Slice valid set\n",
    "        # One fold for valid set, the remaining for train set\n",
    "        valid_ind = random_ind[start_ind:end_ind]\n",
    "        train_ind = np.concatenate((random_ind[:start_ind],\n",
    "                                    random_ind[end_ind:]))\n",
    "\n",
    "        # Update current index\n",
    "        current_ind = end_ind\n",
    "\n",
    "        # Append train and valid index in list\n",
    "        train_ind_list.append(train_ind)\n",
    "        valid_ind_list.append(valid_ind)\n",
    "\n",
    "    return train_ind_list, valid_ind_list\n"
   ]
  },
  {
   "cell_type": "code",
   "execution_count": 83,
   "id": "cf22cc4b",
   "metadata": {
    "id": "IAwXp_HxI3qx"
   },
   "outputs": [],
   "source": [
    "def cross_validate(X, y, method, cv, random_state = 73):\n",
    "    \"\"\"\n",
    "    Function to evaluate AIC by cross-validation method.\n",
    "\n",
    "    Parameters\n",
    "    ----------\n",
    "    X : {array-like} of shape (n_sample, n_predictors)\n",
    "        The independent variable or predictors.\n",
    "\n",
    "    y : {array-like} of shape (n_sample, )\n",
    "        The dependent or response variable.\n",
    "\n",
    "    method : cross-validation splitter\n",
    "        Cross-validation method.\n",
    "\n",
    "    cv : int\n",
    "        Number of folds for k-Fold CV.\n",
    "\n",
    "    random_state : int\n",
    "        Pass an int for reproducible output across multiple function calls.\n",
    "\n",
    "    Returns\n",
    "    -------\n",
    "    score : float\n",
    "        The average AIC score.\n",
    "    \"\"\"\n",
    "    # Split train and valid set based on CV method\n",
    "    if method == \"validation_set\":\n",
    "        train_ind_list, valid_ind_list = validation_set_split(X = X,\n",
    "                                                              random_state = random_state)\n",
    "    elif method == \"loocv\":\n",
    "        train_ind_list, valid_ind_list = loocv_split(X = X)\n",
    "    elif method == \"kfold\":\n",
    "        train_ind_list, valid_ind_list = kfold_split(X = X,\n",
    "                                                     k = cv,\n",
    "                                                     random_state = random_state)\n",
    "\n",
    "    # Define the number of train sets\n",
    "    n_split = len(train_ind_list)\n",
    "\n",
    "    # Initialize AIC score list for each valid set\n",
    "    score_list = []\n",
    "\n",
    "    for i in range(n_split):\n",
    "        # Extract data from index\n",
    "        X_train = X[train_ind_list[i]]\n",
    "        y_train = y[train_ind_list[i]]\n",
    "        X_valid = X[valid_ind_list[i]]\n",
    "        y_valid = y[valid_ind_list[i]]\n",
    "\n",
    "        # Add constant\n",
    "        X_train = sm.add_constant(X_train, has_constant=\"add\")\n",
    "        X_valid = sm.add_constant(X_valid, has_constant=\"add\")\n",
    "\n",
    "        # Fitting model\n",
    "        model = sm.Logit(y_train, X_train)\n",
    "        results = model.fit(disp=False)\n",
    "\n",
    "        # Calculate success probability\n",
    "        y_pred_train = results.predict(X_train)\n",
    "        y_pred_valid = results.predict(X_valid)\n",
    "\n",
    "        # Calculate AIC\n",
    "        aic_train = AIC(y_true = y_train,\n",
    "                        y_pred = y_pred_train,\n",
    "                        p = X_train.shape[1])\n",
    "        aic_valid = AIC(y_true = y_valid,\n",
    "                        y_pred = y_pred_valid,\n",
    "                        p = X_train.shape[1])\n",
    "\n",
    "        # Append AIC score in list\n",
    "        score_list.append(aic_valid)\n",
    "\n",
    "    # Calculate CV Score\n",
    "    score = np.mean(score_list)\n",
    "\n",
    "    return score\n"
   ]
  },
  {
   "cell_type": "code",
   "execution_count": 84,
   "id": "363b5b5a",
   "metadata": {
    "id": "io8pwCmQOdBC"
   },
   "outputs": [],
   "source": [
    "def forward(X, y, predictors, method, cv = 5, random_state = 73):\n",
    "    \"\"\"\n",
    "    Function to perform best subset selection procedure.\n",
    "\n",
    "    Parameters\n",
    "    ----------\n",
    "    X : {array-like} of shape (n_sample, n_predictors)\n",
    "        All predictors set.\n",
    "\n",
    "    y : {array-like} of shape (n_sample, )\n",
    "        The dependent or response variable.\n",
    "\n",
    "    predictors : {array-like} of shape (n_sample, )\n",
    "        Index of predictors\n",
    "\n",
    "    method : cross-validation splitter\n",
    "        Cross-validation method.\n",
    "\n",
    "    cv : int, default=5\n",
    "        Number of folds for k-Fold CV.\n",
    "\n",
    "    random_state : int, default=42\n",
    "        Pass an int for reproducible output across multiple function calls.\n",
    "\n",
    "    Returns\n",
    "    -------\n",
    "    models : {array-like} of shape (n_combinations, k)\n",
    "        Summary of predictors and its AIC score for each possible combination.\n",
    "\n",
    "    best_model : {array-like} of shape (2, )\n",
    "        Best model of models with the smallest AIC score.\n",
    "    \"\"\"\n",
    "\n",
    "    # Initialize list of results\n",
    "    results = []\n",
    "\n",
    "    # Define sample size and  number of all predictors\n",
    "    n_samples, n_predictors = X.shape\n",
    "\n",
    "    # Define list of all predictors\n",
    "    col_list = np.arange(n_predictors)\n",
    "\n",
    "    # Define remaining predictors for each k\n",
    "    remaining_predictors = [p for p in col_list if p not in predictors]\n",
    "\n",
    "    # Initialize list of predictors and its CV Score\n",
    "    pred_list = []\n",
    "    score_list = []\n",
    "\n",
    "    # Cross validate each possible combination of remaining predictors\n",
    "    for p in remaining_predictors:\n",
    "        combi = predictors + [p]\n",
    "\n",
    "        # Extract predictors combination\n",
    "        X_ = X[:, combi]\n",
    "        y_ = y\n",
    "\n",
    "        # Cross validate to get CV Score\n",
    "        score_ = cross_validate(X = X_,\n",
    "                                y = y_,\n",
    "                                method = method,\n",
    "                                cv = cv,\n",
    "                                random_state = random_state)\n",
    "\n",
    "        # Append predictors combination and its CV Score to the list\n",
    "        pred_list.append(list(combi))\n",
    "        score_list.append(score_)\n",
    "\n",
    "    # Tabulate the results\n",
    "    models = pd.DataFrame({\"Predictors\": pred_list,\n",
    "                            \"AIC\": score_list})\n",
    "\n",
    "    # Choose the best model\n",
    "    best_model = models.loc[models[\"AIC\"].argmin()]\n",
    "\n",
    "    return models, best_model\n"
   ]
  },
  {
   "cell_type": "markdown",
   "id": "dbc350f1",
   "metadata": {
    "id": "x-KpNxtnA0v6"
   },
   "source": [
    "### **1. Original training set**"
   ]
  },
  {
   "cell_type": "code",
   "execution_count": 85,
   "id": "89cb2c52",
   "metadata": {
    "colab": {
     "base_uri": "https://localhost:8080/"
    },
    "id": "1EsjD9ONaY-P",
    "outputId": "db671436-40e6-4f61-afa4-942c4ff1e786"
   },
   "outputs": [
    {
     "name": "stdout",
     "output_type": "stream",
     "text": [
      "X_train shape: (61723, 11)\n",
      "y_train shape: (61723,)\n"
     ]
    }
   ],
   "source": [
    "# Split response and predictors\n",
    "X_train = data_train.drop(columns = [response_variable], axis=1)\n",
    "y_train = data_train[response_variable]\n",
    "\n",
    "# Convert dataframe to numpy\n",
    "X_train = X_train.to_numpy()\n",
    "y_train = y_train.to_numpy()\n",
    "\n",
    "# Validate\n",
    "print('X_train shape:', X_train.shape)\n",
    "print('y_train shape:', y_train.shape)"
   ]
  },
  {
   "cell_type": "markdown",
   "id": "796613c5",
   "metadata": {
    "id": "nxObdYSuBkJb"
   },
   "source": [
    "Fit the null (constant) model."
   ]
  },
  {
   "cell_type": "code",
   "execution_count": 86,
   "id": "c0562196",
   "metadata": {
    "colab": {
     "base_uri": "https://localhost:8080/",
     "height": 81
    },
    "id": "k6c5pzuYOggd",
    "outputId": "bf8995b0-598e-4b05-89b7-088085c0349d"
   },
   "outputs": [
    {
     "data": {
      "text/html": [
       "<div>\n",
       "<style scoped>\n",
       "    .dataframe tbody tr th:only-of-type {\n",
       "        vertical-align: middle;\n",
       "    }\n",
       "\n",
       "    .dataframe tbody tr th {\n",
       "        vertical-align: top;\n",
       "    }\n",
       "\n",
       "    .dataframe thead th {\n",
       "        text-align: right;\n",
       "    }\n",
       "</style>\n",
       "<table border=\"1\" class=\"dataframe\">\n",
       "  <thead>\n",
       "    <tr style=\"text-align: right;\">\n",
       "      <th></th>\n",
       "      <th>Predictors</th>\n",
       "      <th>AIC</th>\n",
       "    </tr>\n",
       "  </thead>\n",
       "  <tbody>\n",
       "    <tr>\n",
       "      <th>0</th>\n",
       "      <td>[]</td>\n",
       "      <td>24326.445897</td>\n",
       "    </tr>\n",
       "  </tbody>\n",
       "</table>\n",
       "</div>"
      ],
      "text/plain": [
       "  Predictors           AIC\n",
       "0         []  24326.445897"
      ]
     },
     "execution_count": 86,
     "metadata": {},
     "output_type": "execute_result"
    }
   ],
   "source": [
    "# Fit null model\n",
    "predictor = []\n",
    "score_ = cross_validate(X = X_train[:, [1]],\n",
    "                        y = y_train,\n",
    "                        method = 'kfold',\n",
    "                        cv = 5,\n",
    "                        random_state = 73)\n",
    "\n",
    "# Create table for the best model of each k predictors\n",
    "# Append the results of null model\n",
    "forward_models = pd.DataFrame({\"Predictors\": [predictor],\n",
    "                               \"AIC\": [score_]})\n",
    "\n",
    "forward_models"
   ]
  },
  {
   "cell_type": "markdown",
   "id": "914319a1",
   "metadata": {
    "id": "JyRMSJiqBmXT"
   },
   "source": [
    "Perform the forward selection procedure."
   ]
  },
  {
   "cell_type": "code",
   "execution_count": 87,
   "id": "a8e629a1",
   "metadata": {
    "id": "_JS5U1JMBsOj"
   },
   "outputs": [],
   "source": [
    "# Define list of predictors\n",
    "predictors = []\n",
    "n_predictors = X_train.shape[1]\n",
    "\n",
    "# Perform forward selection procedure for k=1,...,13 predictors\n",
    "for k in range(n_predictors):\n",
    "    _, best_model = forward(X = X_train,\n",
    "                            y = y_train,\n",
    "                            predictors = predictors,\n",
    "                            method = \"kfold\",\n",
    "                            cv = 5,\n",
    "                            random_state = 73)\n",
    "\n",
    "    # Tabulate the best model of each k predictors\n",
    "    forward_models.loc[k+1] = best_model\n",
    "    predictors = best_model[\"Predictors\"]"
   ]
  },
  {
   "cell_type": "code",
   "execution_count": 88,
   "id": "d8b2054a",
   "metadata": {
    "colab": {
     "base_uri": "https://localhost:8080/",
     "height": 488
    },
    "id": "QSAl_nPtO4Df",
    "outputId": "23ca9b71-e662-4c53-dc23-98e20caf2c98"
   },
   "outputs": [
    {
     "data": {
      "text/html": [
       "<div>\n",
       "<style scoped>\n",
       "    .dataframe tbody tr th:only-of-type {\n",
       "        vertical-align: middle;\n",
       "    }\n",
       "\n",
       "    .dataframe tbody tr th {\n",
       "        vertical-align: top;\n",
       "    }\n",
       "\n",
       "    .dataframe thead th {\n",
       "        text-align: right;\n",
       "    }\n",
       "</style>\n",
       "<table border=\"1\" class=\"dataframe\">\n",
       "  <thead>\n",
       "    <tr style=\"text-align: right;\">\n",
       "      <th></th>\n",
       "      <th>Predictors</th>\n",
       "      <th>AIC</th>\n",
       "    </tr>\n",
       "  </thead>\n",
       "  <tbody>\n",
       "    <tr>\n",
       "      <th>0</th>\n",
       "      <td>[]</td>\n",
       "      <td>24326.445897</td>\n",
       "    </tr>\n",
       "    <tr>\n",
       "      <th>1</th>\n",
       "      <td>[4]</td>\n",
       "      <td>19098.679516</td>\n",
       "    </tr>\n",
       "    <tr>\n",
       "      <th>2</th>\n",
       "      <td>[4, 0]</td>\n",
       "      <td>16461.858108</td>\n",
       "    </tr>\n",
       "    <tr>\n",
       "      <th>3</th>\n",
       "      <td>[4, 0, 5]</td>\n",
       "      <td>14439.163359</td>\n",
       "    </tr>\n",
       "    <tr>\n",
       "      <th>4</th>\n",
       "      <td>[4, 0, 5, 3]</td>\n",
       "      <td>13936.646311</td>\n",
       "    </tr>\n",
       "    <tr>\n",
       "      <th>5</th>\n",
       "      <td>[4, 0, 5, 3, 1]</td>\n",
       "      <td>13781.823321</td>\n",
       "    </tr>\n",
       "    <tr>\n",
       "      <th>6</th>\n",
       "      <td>[4, 0, 5, 3, 1, 2]</td>\n",
       "      <td>13686.245438</td>\n",
       "    </tr>\n",
       "    <tr>\n",
       "      <th>7</th>\n",
       "      <td>[4, 0, 5, 3, 1, 2, 6]</td>\n",
       "      <td>13654.287176</td>\n",
       "    </tr>\n",
       "    <tr>\n",
       "      <th>8</th>\n",
       "      <td>[4, 0, 5, 3, 1, 2, 6, 9]</td>\n",
       "      <td>13632.283813</td>\n",
       "    </tr>\n",
       "    <tr>\n",
       "      <th>9</th>\n",
       "      <td>[4, 0, 5, 3, 1, 2, 6, 9, 10]</td>\n",
       "      <td>13634.995883</td>\n",
       "    </tr>\n",
       "    <tr>\n",
       "      <th>10</th>\n",
       "      <td>[4, 0, 5, 3, 1, 2, 6, 9, 10, 7]</td>\n",
       "      <td>13637.797630</td>\n",
       "    </tr>\n",
       "    <tr>\n",
       "      <th>11</th>\n",
       "      <td>[4, 0, 5, 3, 1, 2, 6, 9, 10, 7, 8]</td>\n",
       "      <td>13641.165874</td>\n",
       "    </tr>\n",
       "  </tbody>\n",
       "</table>\n",
       "</div>"
      ],
      "text/plain": [
       "                            Predictors           AIC\n",
       "0                                   []  24326.445897\n",
       "1                                  [4]  19098.679516\n",
       "2                               [4, 0]  16461.858108\n",
       "3                            [4, 0, 5]  14439.163359\n",
       "4                         [4, 0, 5, 3]  13936.646311\n",
       "5                      [4, 0, 5, 3, 1]  13781.823321\n",
       "6                   [4, 0, 5, 3, 1, 2]  13686.245438\n",
       "7                [4, 0, 5, 3, 1, 2, 6]  13654.287176\n",
       "8             [4, 0, 5, 3, 1, 2, 6, 9]  13632.283813\n",
       "9         [4, 0, 5, 3, 1, 2, 6, 9, 10]  13634.995883\n",
       "10     [4, 0, 5, 3, 1, 2, 6, 9, 10, 7]  13637.797630\n",
       "11  [4, 0, 5, 3, 1, 2, 6, 9, 10, 7, 8]  13641.165874"
      ]
     },
     "execution_count": 88,
     "metadata": {},
     "output_type": "execute_result"
    }
   ],
   "source": [
    "# Print the best model of each k predictors\n",
    "forward_models"
   ]
  },
  {
   "cell_type": "markdown",
   "id": "a860984f",
   "metadata": {
    "id": "DnwvzWh_Y4AE"
   },
   "source": [
    "Next, find the best model with the smallest AIC score."
   ]
  },
  {
   "cell_type": "code",
   "execution_count": 89,
   "id": "cda4ac9d",
   "metadata": {
    "colab": {
     "base_uri": "https://localhost:8080/"
    },
    "id": "hFBY6GApXpkI",
    "outputId": "4b635057-4ccc-442a-9946-a056f1f4f508"
   },
   "outputs": [
    {
     "name": "stdout",
     "output_type": "stream",
     "text": [
      "Best index            : 8\n",
      "Best AIC              : 13632.283813116384\n",
      "Best predictors (idx) : [4, 0, 5, 3, 1, 2, 6, 9]\n",
      "Best predictors       :\n",
      "['HbA1c', 'age', 'glucose', 'bmi', 'hypertension', 'heart_disease', 'diabetes', 'former']\n"
     ]
    }
   ],
   "source": [
    "# Find the best AIC score\n",
    "best_idx = forward_models['AIC'].argmin()\n",
    "best_AIC = forward_models['AIC'].loc[best_idx]\n",
    "best_predictors = forward_models['Predictors'].loc[best_idx]\n",
    "\n",
    "# print\n",
    "print('Best index            :', best_idx)\n",
    "print('Best AIC              :', best_AIC)\n",
    "print('Best predictors (idx) :', best_predictors)\n",
    "print('Best predictors       :')\n",
    "print(data_train.columns[best_predictors].tolist())"
   ]
  },
  {
   "cell_type": "markdown",
   "id": "72cc0a62",
   "metadata": {
    "id": "hFort5NhYDW8"
   },
   "source": [
    "**Refit** the best model on whole `X_train` data."
   ]
  },
  {
   "cell_type": "code",
   "execution_count": 90,
   "id": "192d0d98",
   "metadata": {
    "colab": {
     "base_uri": "https://localhost:8080/",
     "height": 75
    },
    "id": "9Li-QBIWPXqu",
    "outputId": "9b75c95a-ed02-45fb-d4f7-1167bc2a4aff"
   },
   "outputs": [
    {
     "data": {
      "text/plain": [
       "LogisticRegression(penalty='none')"
      ]
     },
     "execution_count": 90,
     "metadata": {},
     "output_type": "execute_result"
    }
   ],
   "source": [
    "# Define X with best predictors\n",
    "X_train_best = X_train[:, best_predictors]\n",
    "\n",
    "# Fit best model\n",
    "best_model_ori = LogisticRegression(penalty = 'none',\n",
    "                                    class_weight = None)\n",
    "best_model_ori.fit(X_train_best, y_train)"
   ]
  },
  {
   "cell_type": "code",
   "execution_count": null,
   "id": "a07135e4",
   "metadata": {},
   "outputs": [],
   "source": []
  },
  {
   "cell_type": "code",
   "execution_count": null,
   "id": "4ea24d76",
   "metadata": {},
   "outputs": [],
   "source": []
  },
  {
   "cell_type": "markdown",
   "id": "c7c412be",
   "metadata": {
    "id": "GicJwIAKkdLF"
   },
   "source": [
    "### **2. ROS training set**"
   ]
  },
  {
   "cell_type": "code",
   "execution_count": 91,
   "id": "ce84a6e3",
   "metadata": {
    "colab": {
     "base_uri": "https://localhost:8080/"
    },
    "id": "xqvWLCdYkjl4",
    "outputId": "4ec1ae4a-ebe5-4f34-882d-15ab3eb83501"
   },
   "outputs": [
    {
     "name": "stdout",
     "output_type": "stream",
     "text": [
      "X_train_ros shape : (116980, 11)\n",
      "y_train_ros shape : (116980,)\n"
     ]
    }
   ],
   "source": [
    "# Split response and predictors\n",
    "X_train_ros = data_train_ros.drop(columns = [response_variable], axis=1)\n",
    "y_train_ros = data_train_ros[response_variable]\n",
    "\n",
    "# Convert dataframe to numpy\n",
    "X_train_ros = X_train_ros.to_numpy()\n",
    "y_train_ros = y_train_ros.to_numpy()\n",
    "\n",
    "# Validate the splitting\n",
    "print('X_train_ros shape :', X_train_ros.shape)\n",
    "print('y_train_ros shape :', y_train_ros.shape)"
   ]
  },
  {
   "cell_type": "markdown",
   "id": "9bc7ae1b",
   "metadata": {
    "id": "xeJEhb40B8gw"
   },
   "source": [
    "Fit the null (constant) model."
   ]
  },
  {
   "cell_type": "code",
   "execution_count": 92,
   "id": "923be701",
   "metadata": {
    "colab": {
     "base_uri": "https://localhost:8080/",
     "height": 81
    },
    "id": "UTN2LKZqB8gx",
    "outputId": "3b918c00-7994-45ea-a482-463bd7217fba"
   },
   "outputs": [
    {
     "data": {
      "text/html": [
       "<div>\n",
       "<style scoped>\n",
       "    .dataframe tbody tr th:only-of-type {\n",
       "        vertical-align: middle;\n",
       "    }\n",
       "\n",
       "    .dataframe tbody tr th {\n",
       "        vertical-align: top;\n",
       "    }\n",
       "\n",
       "    .dataframe thead th {\n",
       "        text-align: right;\n",
       "    }\n",
       "</style>\n",
       "<table border=\"1\" class=\"dataframe\">\n",
       "  <thead>\n",
       "    <tr style=\"text-align: right;\">\n",
       "      <th></th>\n",
       "      <th>Predictors</th>\n",
       "      <th>AIC</th>\n",
       "    </tr>\n",
       "  </thead>\n",
       "  <tbody>\n",
       "    <tr>\n",
       "      <th>0</th>\n",
       "      <td>[]</td>\n",
       "      <td>81292.708795</td>\n",
       "    </tr>\n",
       "  </tbody>\n",
       "</table>\n",
       "</div>"
      ],
      "text/plain": [
       "  Predictors           AIC\n",
       "0         []  81292.708795"
      ]
     },
     "execution_count": 92,
     "metadata": {},
     "output_type": "execute_result"
    }
   ],
   "source": [
    "# Fit null model\n",
    "predictor = []\n",
    "score_ = cross_validate(X = X_train_ros[:, [1]],\n",
    "                        y = y_train_ros,\n",
    "                        method = 'kfold',\n",
    "                        cv = 5,\n",
    "                        random_state = 73)\n",
    "\n",
    "# Create table for the best model of each k predictors\n",
    "# Append the results of null model\n",
    "forward_models_ros = pd.DataFrame({\"Predictors\": [predictor],\n",
    "                                   \"AIC\": [score_]})\n",
    "\n",
    "forward_models_ros"
   ]
  },
  {
   "cell_type": "markdown",
   "id": "3f5a7241",
   "metadata": {
    "id": "bmzYXMCZB8gx"
   },
   "source": [
    "Perform the forward selection procedure."
   ]
  },
  {
   "cell_type": "code",
   "execution_count": 93,
   "id": "2c5a0621",
   "metadata": {
    "id": "K2FIhcZ7B8gx"
   },
   "outputs": [],
   "source": [
    "# Define list of predictors\n",
    "predictors = []\n",
    "n_predictors = X_train_ros.shape[1]\n",
    "\n",
    "# Perform forward selection procedure for k=1,...,13 predictors\n",
    "for k in range(n_predictors):\n",
    "    _, best_model = forward(X = X_train_ros,\n",
    "                            y = y_train_ros,\n",
    "                            predictors = predictors,\n",
    "                            method = \"kfold\",\n",
    "                            cv = 5,\n",
    "                            random_state = 73)\n",
    "\n",
    "    # Tabulate the best model of each k predictors\n",
    "    forward_models_ros.loc[k+1] = best_model\n",
    "    predictors = best_model[\"Predictors\"]"
   ]
  },
  {
   "cell_type": "code",
   "execution_count": 94,
   "id": "fc6872ca",
   "metadata": {
    "colab": {
     "base_uri": "https://localhost:8080/",
     "height": 488
    },
    "id": "_1AbG8GeB8gy",
    "outputId": "bf38b9d4-97a3-48f8-b0e3-1f7fe4b78113"
   },
   "outputs": [
    {
     "data": {
      "text/html": [
       "<div>\n",
       "<style scoped>\n",
       "    .dataframe tbody tr th:only-of-type {\n",
       "        vertical-align: middle;\n",
       "    }\n",
       "\n",
       "    .dataframe tbody tr th {\n",
       "        vertical-align: top;\n",
       "    }\n",
       "\n",
       "    .dataframe thead th {\n",
       "        text-align: right;\n",
       "    }\n",
       "</style>\n",
       "<table border=\"1\" class=\"dataframe\">\n",
       "  <thead>\n",
       "    <tr style=\"text-align: right;\">\n",
       "      <th></th>\n",
       "      <th>Predictors</th>\n",
       "      <th>AIC</th>\n",
       "    </tr>\n",
       "  </thead>\n",
       "  <tbody>\n",
       "    <tr>\n",
       "      <th>0</th>\n",
       "      <td>[]</td>\n",
       "      <td>81292.708795</td>\n",
       "    </tr>\n",
       "    <tr>\n",
       "      <th>1</th>\n",
       "      <td>[4]</td>\n",
       "      <td>59988.146245</td>\n",
       "    </tr>\n",
       "    <tr>\n",
       "      <th>2</th>\n",
       "      <td>[4, 0]</td>\n",
       "      <td>47521.750799</td>\n",
       "    </tr>\n",
       "    <tr>\n",
       "      <th>3</th>\n",
       "      <td>[4, 0, 5]</td>\n",
       "      <td>40706.256556</td>\n",
       "    </tr>\n",
       "    <tr>\n",
       "      <th>4</th>\n",
       "      <td>[4, 0, 5, 3]</td>\n",
       "      <td>39044.764125</td>\n",
       "    </tr>\n",
       "    <tr>\n",
       "      <th>5</th>\n",
       "      <td>[4, 0, 5, 3, 1]</td>\n",
       "      <td>38530.816188</td>\n",
       "    </tr>\n",
       "    <tr>\n",
       "      <th>6</th>\n",
       "      <td>[4, 0, 5, 3, 1, 2]</td>\n",
       "      <td>38284.518605</td>\n",
       "    </tr>\n",
       "    <tr>\n",
       "      <th>7</th>\n",
       "      <td>[4, 0, 5, 3, 1, 2, 6]</td>\n",
       "      <td>38132.274155</td>\n",
       "    </tr>\n",
       "    <tr>\n",
       "      <th>8</th>\n",
       "      <td>[4, 0, 5, 3, 1, 2, 6, 9]</td>\n",
       "      <td>38052.219861</td>\n",
       "    </tr>\n",
       "    <tr>\n",
       "      <th>9</th>\n",
       "      <td>[4, 0, 5, 3, 1, 2, 6, 9, 10]</td>\n",
       "      <td>38050.269964</td>\n",
       "    </tr>\n",
       "    <tr>\n",
       "      <th>10</th>\n",
       "      <td>[4, 0, 5, 3, 1, 2, 6, 9, 10, 8]</td>\n",
       "      <td>38051.814872</td>\n",
       "    </tr>\n",
       "    <tr>\n",
       "      <th>11</th>\n",
       "      <td>[4, 0, 5, 3, 1, 2, 6, 9, 10, 8, 7]</td>\n",
       "      <td>38054.066220</td>\n",
       "    </tr>\n",
       "  </tbody>\n",
       "</table>\n",
       "</div>"
      ],
      "text/plain": [
       "                            Predictors           AIC\n",
       "0                                   []  81292.708795\n",
       "1                                  [4]  59988.146245\n",
       "2                               [4, 0]  47521.750799\n",
       "3                            [4, 0, 5]  40706.256556\n",
       "4                         [4, 0, 5, 3]  39044.764125\n",
       "5                      [4, 0, 5, 3, 1]  38530.816188\n",
       "6                   [4, 0, 5, 3, 1, 2]  38284.518605\n",
       "7                [4, 0, 5, 3, 1, 2, 6]  38132.274155\n",
       "8             [4, 0, 5, 3, 1, 2, 6, 9]  38052.219861\n",
       "9         [4, 0, 5, 3, 1, 2, 6, 9, 10]  38050.269964\n",
       "10     [4, 0, 5, 3, 1, 2, 6, 9, 10, 8]  38051.814872\n",
       "11  [4, 0, 5, 3, 1, 2, 6, 9, 10, 8, 7]  38054.066220"
      ]
     },
     "execution_count": 94,
     "metadata": {},
     "output_type": "execute_result"
    }
   ],
   "source": [
    "# Print the best model of each k predictors\n",
    "forward_models_ros"
   ]
  },
  {
   "cell_type": "markdown",
   "id": "bf7cba8f",
   "metadata": {
    "id": "tdJz_Ij6B8gy"
   },
   "source": [
    "Next, find the best model with the smallest AIC score."
   ]
  },
  {
   "cell_type": "code",
   "execution_count": 95,
   "id": "a7b54a38",
   "metadata": {
    "colab": {
     "base_uri": "https://localhost:8080/"
    },
    "id": "5z359D8BB8gz",
    "outputId": "783d8a0e-98fe-4214-9669-444455683a16"
   },
   "outputs": [
    {
     "name": "stdout",
     "output_type": "stream",
     "text": [
      "Best index            : 9\n",
      "Best AIC              : 38050.269963777675\n",
      "Best predictors (idx) : [4, 0, 5, 3, 1, 2, 6, 9, 10]\n",
      "Best predictors       :\n",
      "['HbA1c', 'age', 'glucose', 'bmi', 'hypertension', 'heart_disease', 'Male', 'not current', 'ever']\n"
     ]
    }
   ],
   "source": [
    "# Find the best AIC score\n",
    "best_idx_ros = forward_models_ros['AIC'].argmin()\n",
    "best_AIC_ros = forward_models_ros['AIC'].loc[best_idx_ros]\n",
    "best_predictors_ros = forward_models_ros['Predictors'].loc[best_idx_ros]\n",
    "\n",
    "# print\n",
    "print('Best index            :', best_idx_ros)\n",
    "print('Best AIC              :', best_AIC_ros)\n",
    "print('Best predictors (idx) :', best_predictors_ros)\n",
    "print('Best predictors       :')\n",
    "print(data_train_ros.columns[best_predictors_ros].tolist())"
   ]
  },
  {
   "cell_type": "markdown",
   "id": "d2113c88",
   "metadata": {
    "id": "w6SvRgPW7mGI"
   },
   "source": [
    "**Refit** the best model on whole `X_train_ros` data."
   ]
  },
  {
   "cell_type": "code",
   "execution_count": 96,
   "id": "ed7032a7",
   "metadata": {
    "colab": {
     "base_uri": "https://localhost:8080/",
     "height": 234
    },
    "id": "iMjW82897mGJ",
    "outputId": "73bb8306-32d7-485c-8fe0-861d952ea5fc"
   },
   "outputs": [
    {
     "data": {
      "text/plain": [
       "LogisticRegression(penalty='none')"
      ]
     },
     "execution_count": 96,
     "metadata": {},
     "output_type": "execute_result"
    }
   ],
   "source": [
    "# Define X with best predictors\n",
    "X_train_best_ros = X_train_ros[:, best_predictors_ros]\n",
    "\n",
    "# Fit best model\n",
    "best_ros_model = LogisticRegression(penalty = 'none',\n",
    "                                    class_weight = None)\n",
    "best_ros_model.fit(X_train_best_ros, y_train_ros)"
   ]
  },
  {
   "cell_type": "code",
   "execution_count": null,
   "id": "9105432b",
   "metadata": {},
   "outputs": [],
   "source": []
  },
  {
   "cell_type": "code",
   "execution_count": null,
   "id": "e3c0a364",
   "metadata": {},
   "outputs": [],
   "source": []
  },
  {
   "cell_type": "markdown",
   "id": "4d91f929",
   "metadata": {
    "id": "N9xJ1mcNg4RX"
   },
   "source": [
    "### **3. RUS training set**"
   ]
  },
  {
   "cell_type": "code",
   "execution_count": 97,
   "id": "d9e3e152",
   "metadata": {
    "colab": {
     "base_uri": "https://localhost:8080/"
    },
    "id": "dYOJtET7xhds",
    "outputId": "d1d157cb-f401-4075-ac0e-fda034815e3e"
   },
   "outputs": [
    {
     "name": "stdout",
     "output_type": "stream",
     "text": [
      "X_train_rus shape : (6466, 11)\n",
      "y_train_rus shape : (6466,)\n"
     ]
    }
   ],
   "source": [
    "# Split response and predictors\n",
    "X_train_rus = data_train_rus.drop(columns = [response_variable], axis=1)\n",
    "y_train_rus = data_train_rus[response_variable]\n",
    "\n",
    "# Convert dataframe to numpy\n",
    "X_train_rus = X_train_rus.to_numpy()\n",
    "y_train_rus = y_train_rus.to_numpy()\n",
    "\n",
    "# Validate the splitting\n",
    "print('X_train_rus shape :', X_train_rus.shape)\n",
    "print('y_train_rus shape :', y_train_rus.shape)"
   ]
  },
  {
   "cell_type": "markdown",
   "id": "c06240c8",
   "metadata": {
    "id": "p3E6FE88xhdt"
   },
   "source": [
    "Fit the null (constant) model."
   ]
  },
  {
   "cell_type": "code",
   "execution_count": 98,
   "id": "a940cc63",
   "metadata": {
    "colab": {
     "base_uri": "https://localhost:8080/",
     "height": 81
    },
    "id": "WjbWQtBMxhdu",
    "outputId": "987b5389-7ae7-4d53-e35c-111bc02a8caa"
   },
   "outputs": [
    {
     "data": {
      "text/html": [
       "<div>\n",
       "<style scoped>\n",
       "    .dataframe tbody tr th:only-of-type {\n",
       "        vertical-align: middle;\n",
       "    }\n",
       "\n",
       "    .dataframe tbody tr th {\n",
       "        vertical-align: top;\n",
       "    }\n",
       "\n",
       "    .dataframe thead th {\n",
       "        text-align: right;\n",
       "    }\n",
       "</style>\n",
       "<table border=\"1\" class=\"dataframe\">\n",
       "  <thead>\n",
       "    <tr style=\"text-align: right;\">\n",
       "      <th></th>\n",
       "      <th>Predictors</th>\n",
       "      <th>AIC</th>\n",
       "    </tr>\n",
       "  </thead>\n",
       "  <tbody>\n",
       "    <tr>\n",
       "      <th>0</th>\n",
       "      <td>[]</td>\n",
       "      <td>81337.457533</td>\n",
       "    </tr>\n",
       "  </tbody>\n",
       "</table>\n",
       "</div>"
      ],
      "text/plain": [
       "  Predictors           AIC\n",
       "0         []  81337.457533"
      ]
     },
     "execution_count": 98,
     "metadata": {},
     "output_type": "execute_result"
    }
   ],
   "source": [
    "# Fit null model\n",
    "predictor = []\n",
    "score_ = cross_validate(X = X_train_rus[:, [1]],\n",
    "                        y = y_train_rus,\n",
    "                        method = 'kfold',\n",
    "                        cv = 5,\n",
    "                        random_state = 73)\n",
    "\n",
    "# Create table for the best model of each k predictors\n",
    "# Append the results of null model\n",
    "forward_models_rus = pd.DataFrame({\"Predictors\": [predictor],\n",
    "                                   \"AIC\": [score_]})\n",
    "\n",
    "forward_models_rus"
   ]
  },
  {
   "cell_type": "markdown",
   "id": "25872172",
   "metadata": {
    "id": "TCo2HLPCxhdu"
   },
   "source": [
    "Perform the forward selection procedure."
   ]
  },
  {
   "cell_type": "code",
   "execution_count": 99,
   "id": "7ca34b91",
   "metadata": {
    "id": "k_TP06wWxhdv"
   },
   "outputs": [],
   "source": [
    "# Define list of predictors\n",
    "predictors = []\n",
    "n_predictors = X_train_rus.shape[1]\n",
    "\n",
    "# Perform forward selection procedure for k=1,...,13 predictors\n",
    "for k in range(n_predictors):\n",
    "    _, best_model = forward(X = X_train_rus,\n",
    "                            y = y_train_rus,\n",
    "                            predictors = predictors,\n",
    "                            method = \"kfold\",\n",
    "                            cv = 5,\n",
    "                            random_state = 73)\n",
    "\n",
    "    # Tabulate the best model of each k predictors\n",
    "    forward_models_rus.loc[k+1] = best_model\n",
    "    predictors = best_model[\"Predictors\"]"
   ]
  },
  {
   "cell_type": "code",
   "execution_count": 100,
   "id": "9052e77f",
   "metadata": {
    "colab": {
     "base_uri": "https://localhost:8080/",
     "height": 488
    },
    "id": "YILc0fwlxhdv",
    "outputId": "c33c70ad-027e-4b40-87a2-1aa9a0030a4d"
   },
   "outputs": [
    {
     "data": {
      "text/html": [
       "<div>\n",
       "<style scoped>\n",
       "    .dataframe tbody tr th:only-of-type {\n",
       "        vertical-align: middle;\n",
       "    }\n",
       "\n",
       "    .dataframe tbody tr th {\n",
       "        vertical-align: top;\n",
       "    }\n",
       "\n",
       "    .dataframe thead th {\n",
       "        text-align: right;\n",
       "    }\n",
       "</style>\n",
       "<table border=\"1\" class=\"dataframe\">\n",
       "  <thead>\n",
       "    <tr style=\"text-align: right;\">\n",
       "      <th></th>\n",
       "      <th>Predictors</th>\n",
       "      <th>AIC</th>\n",
       "    </tr>\n",
       "  </thead>\n",
       "  <tbody>\n",
       "    <tr>\n",
       "      <th>0</th>\n",
       "      <td>[]</td>\n",
       "      <td>81337.457533</td>\n",
       "    </tr>\n",
       "    <tr>\n",
       "      <th>1</th>\n",
       "      <td>[4]</td>\n",
       "      <td>59886.272437</td>\n",
       "    </tr>\n",
       "    <tr>\n",
       "      <th>2</th>\n",
       "      <td>[4, 0]</td>\n",
       "      <td>46992.976089</td>\n",
       "    </tr>\n",
       "    <tr>\n",
       "      <th>3</th>\n",
       "      <td>[4, 0, 5]</td>\n",
       "      <td>40315.816117</td>\n",
       "    </tr>\n",
       "    <tr>\n",
       "      <th>4</th>\n",
       "      <td>[4, 0, 5, 3]</td>\n",
       "      <td>38961.085437</td>\n",
       "    </tr>\n",
       "    <tr>\n",
       "      <th>5</th>\n",
       "      <td>[4, 0, 5, 3, 1]</td>\n",
       "      <td>38573.873197</td>\n",
       "    </tr>\n",
       "    <tr>\n",
       "      <th>6</th>\n",
       "      <td>[4, 0, 5, 3, 1, 6]</td>\n",
       "      <td>38361.782267</td>\n",
       "    </tr>\n",
       "    <tr>\n",
       "      <th>7</th>\n",
       "      <td>[4, 0, 5, 3, 1, 6, 2]</td>\n",
       "      <td>38219.347503</td>\n",
       "    </tr>\n",
       "    <tr>\n",
       "      <th>8</th>\n",
       "      <td>[4, 0, 5, 3, 1, 6, 2, 8]</td>\n",
       "      <td>38218.521298</td>\n",
       "    </tr>\n",
       "    <tr>\n",
       "      <th>9</th>\n",
       "      <td>[4, 0, 5, 3, 1, 6, 2, 8, 10]</td>\n",
       "      <td>38219.207526</td>\n",
       "    </tr>\n",
       "    <tr>\n",
       "      <th>10</th>\n",
       "      <td>[4, 0, 5, 3, 1, 6, 2, 8, 10, 9]</td>\n",
       "      <td>38231.097793</td>\n",
       "    </tr>\n",
       "    <tr>\n",
       "      <th>11</th>\n",
       "      <td>[4, 0, 5, 3, 1, 6, 2, 8, 10, 9, 7]</td>\n",
       "      <td>38250.595109</td>\n",
       "    </tr>\n",
       "  </tbody>\n",
       "</table>\n",
       "</div>"
      ],
      "text/plain": [
       "                            Predictors           AIC\n",
       "0                                   []  81337.457533\n",
       "1                                  [4]  59886.272437\n",
       "2                               [4, 0]  46992.976089\n",
       "3                            [4, 0, 5]  40315.816117\n",
       "4                         [4, 0, 5, 3]  38961.085437\n",
       "5                      [4, 0, 5, 3, 1]  38573.873197\n",
       "6                   [4, 0, 5, 3, 1, 6]  38361.782267\n",
       "7                [4, 0, 5, 3, 1, 6, 2]  38219.347503\n",
       "8             [4, 0, 5, 3, 1, 6, 2, 8]  38218.521298\n",
       "9         [4, 0, 5, 3, 1, 6, 2, 8, 10]  38219.207526\n",
       "10     [4, 0, 5, 3, 1, 6, 2, 8, 10, 9]  38231.097793\n",
       "11  [4, 0, 5, 3, 1, 6, 2, 8, 10, 9, 7]  38250.595109"
      ]
     },
     "execution_count": 100,
     "metadata": {},
     "output_type": "execute_result"
    }
   ],
   "source": [
    "# Print the best model of each k predictors\n",
    "forward_models_rus"
   ]
  },
  {
   "cell_type": "markdown",
   "id": "bcd1e343",
   "metadata": {
    "id": "ulq5E5zhxhdw"
   },
   "source": [
    "Next, find the best model with the smallest AIC score."
   ]
  },
  {
   "cell_type": "code",
   "execution_count": 101,
   "id": "3e58838b",
   "metadata": {
    "colab": {
     "base_uri": "https://localhost:8080/"
    },
    "id": "7Epr7rp9xhdy",
    "outputId": "b01a44e9-ac3a-4b79-ea61-55247cd8048d"
   },
   "outputs": [
    {
     "name": "stdout",
     "output_type": "stream",
     "text": [
      "Best index            : 8\n",
      "Best AIC              : 38218.5212984929\n",
      "Best predictors (idx) : [4, 0, 5, 3, 1, 6, 2, 8]\n",
      "Best predictors       :\n",
      "['HbA1c', 'age', 'glucose', 'bmi', 'hypertension', 'Male', 'heart_disease', 'former']\n"
     ]
    }
   ],
   "source": [
    "# Find the best AIC score\n",
    "best_idx_rus = forward_models_rus['AIC'].argmin()\n",
    "best_AIC_rus = forward_models_rus['AIC'].loc[best_idx_rus]\n",
    "best_predictors_rus = forward_models_rus['Predictors'].loc[best_idx_rus]\n",
    "\n",
    "# print\n",
    "print('Best index            :', best_idx_rus)\n",
    "print('Best AIC              :', best_AIC_rus)\n",
    "print('Best predictors (idx) :', best_predictors_rus)\n",
    "print('Best predictors       :')\n",
    "print(data_train_rus.columns[best_predictors_rus].tolist())"
   ]
  },
  {
   "cell_type": "markdown",
   "id": "48a6ed0e",
   "metadata": {
    "id": "AxNjVn-r7h8j"
   },
   "source": [
    "**Refit** the best model on whole `X_train_rus` data."
   ]
  },
  {
   "cell_type": "code",
   "execution_count": 102,
   "id": "56ab5ac0",
   "metadata": {
    "colab": {
     "base_uri": "https://localhost:8080/",
     "height": 75
    },
    "id": "WOwYEO6T7J60",
    "outputId": "518149f2-d470-410c-e9f0-3ee8b900a772"
   },
   "outputs": [
    {
     "data": {
      "text/plain": [
       "LogisticRegression(penalty='none')"
      ]
     },
     "execution_count": 102,
     "metadata": {},
     "output_type": "execute_result"
    }
   ],
   "source": [
    "# Define X with best predictors\n",
    "X_train_best_rus = X_train_rus[:, best_predictors_rus]\n",
    "\n",
    "# Fit best model\n",
    "best_rus_model = LogisticRegression(penalty = 'none',\n",
    "                                    class_weight = None)\n",
    "best_rus_model.fit(X_train_best_rus, y_train_rus)"
   ]
  },
  {
   "cell_type": "code",
   "execution_count": null,
   "id": "17a4cb40",
   "metadata": {},
   "outputs": [],
   "source": []
  },
  {
   "cell_type": "code",
   "execution_count": null,
   "id": "980a0ff1",
   "metadata": {},
   "outputs": [],
   "source": []
  },
  {
   "cell_type": "markdown",
   "id": "3884395c",
   "metadata": {
    "id": "IvcRei5oqHqQ"
   },
   "source": [
    "## **7. Model Evaluation**"
   ]
  },
  {
   "cell_type": "markdown",
   "id": "e2ff7558",
   "metadata": {
    "id": "tx6tCsDeHBPu"
   },
   "source": [
    "3 best models from each method of preprocessing:\n",
    "1. Original training set\n",
    "2. ROS training set\n",
    "3. RUS training set\n",
    "\n",
    "Compare the best models' performance by its\n",
    "- AIC on training set\n",
    "- AIC on testing set\n",
    "- AUC score\n",
    "\n",
    "First, create a function to return those metrics."
   ]
  },
  {
   "cell_type": "code",
   "execution_count": 103,
   "id": "e91f65ce",
   "metadata": {
    "id": "NbKaCTcY0R6N"
   },
   "outputs": [],
   "source": [
    "import sklearn.metrics as metrics\n",
    "\n",
    "def predict_test(X_test, y_test, model, predictors):\n",
    "    # Calculate success probability\n",
    "    X_test_best = X_test[:, predictors]\n",
    "    pred_test = model.predict_proba(X_test_best)\n",
    "    y_pred_test = pred_test[:,1]\n",
    "    \n",
    "    # Calculate AIC\n",
    "    aic_test = AIC(y_true = y_test,\n",
    "                   y_pred = y_pred_test,\n",
    "                   p = X_test.shape[1]+1)\n",
    "    \n",
    "    # Calculate AUC\n",
    "    auc = metrics.roc_auc_score(y_true = y_test,\n",
    "                              y_score = y_pred_test)\n",
    "    \n",
    "    return y_pred_test, round(aic_test, 2), round(auc, 2)"
   ]
  },
  {
   "cell_type": "markdown",
   "id": "9e51d5e5",
   "metadata": {
    "id": "V-onkxNPEAMj"
   },
   "source": [
    "### **1. Original training set**"
   ]
  },
  {
   "cell_type": "code",
   "execution_count": 104,
   "id": "2e7e40b7",
   "metadata": {
    "colab": {
     "base_uri": "https://localhost:8080/"
    },
    "id": "da55nVS84mc-",
    "outputId": "ce303666-57be-4ec1-e1f5-8065f3572b15"
   },
   "outputs": [
    {
     "data": {
      "text/plain": [
       "(array([4.98925512e-03, 2.45454304e-06, 7.16633077e-05, ...,\n",
       "        1.56713337e-05, 2.11347492e-04, 3.64529273e-03]),\n",
       " 14841.1,\n",
       " 0.93)"
      ]
     },
     "execution_count": 104,
     "metadata": {},
     "output_type": "execute_result"
    }
   ],
   "source": [
    "y_pred_test, aic_test, auc = predict_test(X_test = X_test,\n",
    "                                          y_test = y_test,\n",
    "                                          model = best_model_ori,\n",
    "                                          predictors = best_predictors)\n",
    "\n",
    "y_pred_test, aic_test, auc"
   ]
  },
  {
   "cell_type": "code",
   "execution_count": 105,
   "id": "f109e206",
   "metadata": {
    "colab": {
     "base_uri": "https://localhost:8080/",
     "height": 0
    },
    "id": "pl_1HfXcCWlK",
    "outputId": "faaa059a-5fc3-4430-bd80-10d1c7d90ba4"
   },
   "outputs": [
    {
     "data": {
      "text/html": [
       "<div>\n",
       "<style scoped>\n",
       "    .dataframe tbody tr th:only-of-type {\n",
       "        vertical-align: middle;\n",
       "    }\n",
       "\n",
       "    .dataframe tbody tr th {\n",
       "        vertical-align: top;\n",
       "    }\n",
       "\n",
       "    .dataframe thead th {\n",
       "        text-align: right;\n",
       "    }\n",
       "</style>\n",
       "<table border=\"1\" class=\"dataframe\">\n",
       "  <thead>\n",
       "    <tr style=\"text-align: right;\">\n",
       "      <th></th>\n",
       "      <th>Method</th>\n",
       "      <th>Predictors</th>\n",
       "      <th>AIC Train</th>\n",
       "      <th>AIC Test</th>\n",
       "      <th>AUC</th>\n",
       "    </tr>\n",
       "  </thead>\n",
       "  <tbody>\n",
       "    <tr>\n",
       "      <th>0</th>\n",
       "      <td>Original</td>\n",
       "      <td>[4, 0, 5, 3, 1, 2, 6, 9]</td>\n",
       "      <td>13632.283813</td>\n",
       "      <td>14841.1</td>\n",
       "      <td>0.93</td>\n",
       "    </tr>\n",
       "  </tbody>\n",
       "</table>\n",
       "</div>"
      ],
      "text/plain": [
       "     Method                Predictors     AIC Train AIC Test   AUC\n",
       "0  Original  [4, 0, 5, 3, 1, 2, 6, 9]  13632.283813  14841.1  0.93"
      ]
     },
     "execution_count": 105,
     "metadata": {},
     "output_type": "execute_result"
    }
   ],
   "source": [
    "# Summarize in a table\n",
    "model_eval = pd.Series({'Method': 'Original',\n",
    "                        'Predictors' : best_predictors,\n",
    "                        'AIC Train': best_AIC,\n",
    "                        'AIC Test' : aic_test,\n",
    "                        'AUC' : auc})\n",
    "\n",
    "model_eval = model_eval.to_frame()\n",
    "model_eval.T"
   ]
  },
  {
   "cell_type": "code",
   "execution_count": 106,
   "id": "a2d87b2e",
   "metadata": {
    "colab": {
     "base_uri": "https://localhost:8080/",
     "height": 0
    },
    "id": "INqdbv3qA13b",
    "outputId": "3c20a542-fccd-4902-f1f7-4109434c8e04"
   },
   "outputs": [
    {
     "data": {
      "text/plain": [
       "<AxesSubplot:ylabel='Count'>"
      ]
     },
     "execution_count": 106,
     "metadata": {},
     "output_type": "execute_result"
    },
    {
     "data": {
      "image/png": "[encoded data removed]",
      "text/plain": [
       "<Figure size 640x480 with 1 Axes>"
      ]
     },
     "metadata": {},
     "output_type": "display_data"
    }
   ],
   "source": [
    "# Distribution plot of predicted probability\n",
    "sns.histplot(x = y_pred_test,\n",
    "             kde = True)"
   ]
  },
  {
   "cell_type": "code",
   "execution_count": null,
   "id": "6ddbaf86",
   "metadata": {},
   "outputs": [],
   "source": []
  },
  {
   "cell_type": "code",
   "execution_count": null,
   "id": "906145de",
   "metadata": {},
   "outputs": [],
   "source": []
  },
  {
   "cell_type": "markdown",
   "id": "bc6f3736",
   "metadata": {
    "id": "JLuE99P9EdmX"
   },
   "source": [
    "### **2. ROS training set**"
   ]
  },
  {
   "cell_type": "code",
   "execution_count": 107,
   "id": "738e6266",
   "metadata": {
    "colab": {
     "base_uri": "https://localhost:8080/"
    },
    "id": "hOVwy591_o0U",
    "outputId": "46b47307-e43c-40c3-b9c7-a57ef58764f8"
   },
   "outputs": [
    {
     "data": {
      "text/plain": [
       "(array([9.03146060e-02, 1.37456918e-05, 3.96926564e-04, ...,\n",
       "        1.29891915e-04, 2.21582577e-03, 7.39909918e-02]),\n",
       " 44074.81,\n",
       " 0.93)"
      ]
     },
     "execution_count": 107,
     "metadata": {},
     "output_type": "execute_result"
    }
   ],
   "source": [
    "y_pred_test_ros, aic_test_ros, auc_ros = predict_test(X_test = X_test,\n",
    "                                                      y_test = y_test,\n",
    "                                                      model = best_ros_model,\n",
    "                                                      predictors = best_predictors_ros)\n",
    "y_pred_test_ros, aic_test_ros, auc_ros"
   ]
  },
  {
   "cell_type": "code",
   "execution_count": 108,
   "id": "bb0be58a",
   "metadata": {
    "colab": {
     "base_uri": "https://localhost:8080/",
     "height": 0
    },
    "id": "PQknvDWjDehZ",
    "outputId": "dd2a004e-b6b6-4539-ea82-d8dee49bba49"
   },
   "outputs": [
    {
     "data": {
      "text/html": [
       "<div>\n",
       "<style scoped>\n",
       "    .dataframe tbody tr th:only-of-type {\n",
       "        vertical-align: middle;\n",
       "    }\n",
       "\n",
       "    .dataframe tbody tr th {\n",
       "        vertical-align: top;\n",
       "    }\n",
       "\n",
       "    .dataframe thead th {\n",
       "        text-align: right;\n",
       "    }\n",
       "</style>\n",
       "<table border=\"1\" class=\"dataframe\">\n",
       "  <thead>\n",
       "    <tr style=\"text-align: right;\">\n",
       "      <th></th>\n",
       "      <th>Method</th>\n",
       "      <th>Predictors</th>\n",
       "      <th>AIC Train</th>\n",
       "      <th>AIC Test</th>\n",
       "      <th>AUC</th>\n",
       "    </tr>\n",
       "  </thead>\n",
       "  <tbody>\n",
       "    <tr>\n",
       "      <th>0</th>\n",
       "      <td>Original</td>\n",
       "      <td>[4, 0, 5, 3, 1, 2, 6, 9]</td>\n",
       "      <td>13632.283813</td>\n",
       "      <td>14841.1</td>\n",
       "      <td>0.93</td>\n",
       "    </tr>\n",
       "    <tr>\n",
       "      <th>1</th>\n",
       "      <td>Oversampling</td>\n",
       "      <td>[4, 0, 5, 3, 1, 2, 6, 9, 10]</td>\n",
       "      <td>38050.269964</td>\n",
       "      <td>44074.81</td>\n",
       "      <td>0.93</td>\n",
       "    </tr>\n",
       "  </tbody>\n",
       "</table>\n",
       "</div>"
      ],
      "text/plain": [
       "         Method                    Predictors     AIC Train  AIC Test   AUC\n",
       "0      Original      [4, 0, 5, 3, 1, 2, 6, 9]  13632.283813   14841.1  0.93\n",
       "1  Oversampling  [4, 0, 5, 3, 1, 2, 6, 9, 10]  38050.269964  44074.81  0.93"
      ]
     },
     "execution_count": 108,
     "metadata": {},
     "output_type": "execute_result"
    }
   ],
   "source": [
    "# Summarize the ROS model performance\n",
    "ros_eval = pd.Series({'Method': 'Oversampling',\n",
    "                      'Predictors' : best_predictors_ros,\n",
    "                      'AIC Train': best_AIC_ros,\n",
    "                      'AIC Test' : aic_test_ros,\n",
    "                      'AUC' : auc_ros})\n",
    "\n",
    "# Concatenate to model_eval summary\n",
    "model_eval = pd.concat([model_eval, ros_eval],\n",
    "                       axis=1,\n",
    "                       ignore_index=True)\n",
    "model_eval.T"
   ]
  },
  {
   "cell_type": "code",
   "execution_count": 109,
   "id": "364e73f9",
   "metadata": {},
   "outputs": [
    {
     "data": {
      "text/plain": [
       "<AxesSubplot:ylabel='Count'>"
      ]
     },
     "execution_count": 109,
     "metadata": {},
     "output_type": "execute_result"
    },
    {
     "data": {
      "image/png": "[encoded data removed]",
      "text/plain": [
       "<Figure size 640x480 with 1 Axes>"
      ]
     },
     "metadata": {},
     "output_type": "display_data"
    }
   ],
   "source": [
    "# Distribution plot of predicted probability\n",
    "sns.histplot(x = y_pred_test_ros,\n",
    "             kde = True)"
   ]
  },
  {
   "cell_type": "code",
   "execution_count": null,
   "id": "b39e2bf2",
   "metadata": {},
   "outputs": [],
   "source": []
  },
  {
   "cell_type": "code",
   "execution_count": null,
   "id": "0fc8b73e",
   "metadata": {},
   "outputs": [],
   "source": []
  },
  {
   "cell_type": "markdown",
   "id": "660842b4",
   "metadata": {
    "id": "ss6O9FPmETOM"
   },
   "source": [
    "### **3. RUS training set**"
   ]
  },
  {
   "cell_type": "code",
   "execution_count": 110,
   "id": "507aa3ec",
   "metadata": {
    "colab": {
     "base_uri": "https://localhost:8080/"
    },
    "id": "zCdGmkMd_Sep",
    "outputId": "15fd1495-6aca-46c5-db8f-4548ba2bed63"
   },
   "outputs": [
    {
     "data": {
      "text/plain": [
       "(array([7.72093683e-02, 3.98732855e-05, 9.53712315e-04, ...,\n",
       "        3.28446938e-04, 2.85211640e-03, 5.20814001e-02]),\n",
       " 41783.13,\n",
       " 0.94)"
      ]
     },
     "execution_count": 110,
     "metadata": {},
     "output_type": "execute_result"
    }
   ],
   "source": [
    "y_pred_test_rus, aic_test_rus, auc_rus = predict_test(X_test = X_test,\n",
    "                                                      y_test = y_test,\n",
    "                                                      model = best_rus_model,\n",
    "                                                      predictors = best_predictors_rus)\n",
    "\n",
    "y_pred_test_rus, aic_test_rus, auc_rus"
   ]
  },
  {
   "cell_type": "code",
   "execution_count": 111,
   "id": "0abca845",
   "metadata": {
    "colab": {
     "base_uri": "https://localhost:8080/",
     "height": 0
    },
    "id": "ebKca5-GC47-",
    "outputId": "54f567a7-5ae7-4b9e-c691-3fca12147c63"
   },
   "outputs": [
    {
     "data": {
      "text/html": [
       "<div>\n",
       "<style scoped>\n",
       "    .dataframe tbody tr th:only-of-type {\n",
       "        vertical-align: middle;\n",
       "    }\n",
       "\n",
       "    .dataframe tbody tr th {\n",
       "        vertical-align: top;\n",
       "    }\n",
       "\n",
       "    .dataframe thead th {\n",
       "        text-align: right;\n",
       "    }\n",
       "</style>\n",
       "<table border=\"1\" class=\"dataframe\">\n",
       "  <thead>\n",
       "    <tr style=\"text-align: right;\">\n",
       "      <th></th>\n",
       "      <th>Method</th>\n",
       "      <th>Predictors</th>\n",
       "      <th>AIC Train</th>\n",
       "      <th>AIC Test</th>\n",
       "      <th>AUC</th>\n",
       "    </tr>\n",
       "  </thead>\n",
       "  <tbody>\n",
       "    <tr>\n",
       "      <th>0</th>\n",
       "      <td>Original</td>\n",
       "      <td>[4, 0, 5, 3, 1, 2, 6, 9]</td>\n",
       "      <td>13632.283813</td>\n",
       "      <td>14841.1</td>\n",
       "      <td>0.93</td>\n",
       "    </tr>\n",
       "    <tr>\n",
       "      <th>1</th>\n",
       "      <td>Oversampling</td>\n",
       "      <td>[4, 0, 5, 3, 1, 2, 6, 9, 10]</td>\n",
       "      <td>38050.269964</td>\n",
       "      <td>44074.81</td>\n",
       "      <td>0.93</td>\n",
       "    </tr>\n",
       "    <tr>\n",
       "      <th>2</th>\n",
       "      <td>Undersampling</td>\n",
       "      <td>[4, 0, 5, 3, 1, 6, 2, 8]</td>\n",
       "      <td>38218.521298</td>\n",
       "      <td>41783.13</td>\n",
       "      <td>0.94</td>\n",
       "    </tr>\n",
       "  </tbody>\n",
       "</table>\n",
       "</div>"
      ],
      "text/plain": [
       "          Method                    Predictors     AIC Train  AIC Test   AUC\n",
       "0       Original      [4, 0, 5, 3, 1, 2, 6, 9]  13632.283813   14841.1  0.93\n",
       "1   Oversampling  [4, 0, 5, 3, 1, 2, 6, 9, 10]  38050.269964  44074.81  0.93\n",
       "2  Undersampling      [4, 0, 5, 3, 1, 6, 2, 8]  38218.521298  41783.13  0.94"
      ]
     },
     "execution_count": 111,
     "metadata": {},
     "output_type": "execute_result"
    }
   ],
   "source": [
    "# Summarize the RUS model performance\n",
    "rus_eval = pd.Series({'Method': 'Undersampling',\n",
    "                      'Predictors' : best_predictors_rus,\n",
    "                      'AIC Train': best_AIC_rus,\n",
    "                      'AIC Test' : aic_test_rus,\n",
    "                      'AUC' : auc_rus})\n",
    "\n",
    "# Concatenate to model_eval summary\n",
    "model_eval = pd.concat([model_eval, rus_eval],\n",
    "                       axis=1,\n",
    "                       ignore_index=True)\n",
    "model_eval.T"
   ]
  },
  {
   "cell_type": "code",
   "execution_count": 112,
   "id": "fe6b93a5",
   "metadata": {},
   "outputs": [
    {
     "data": {
      "text/plain": [
       "<AxesSubplot:ylabel='Count'>"
      ]
     },
     "execution_count": 112,
     "metadata": {},
     "output_type": "execute_result"
    },
    {
     "data": {
      "image/png": "[encoded data removed]",
      "text/plain": [
       "<Figure size 640x480 with 1 Axes>"
      ]
     },
     "metadata": {},
     "output_type": "display_data"
    }
   ],
   "source": [
    "# Distribution plot of predicted probability\n",
    "sns.histplot(x = y_pred_test_rus,\n",
    "             kde = True)"
   ]
  },
  {
   "cell_type": "code",
   "execution_count": null,
   "id": "3f9b66f5",
   "metadata": {},
   "outputs": [],
   "source": []
  },
  {
   "cell_type": "code",
   "execution_count": null,
   "id": "b3fae390",
   "metadata": {},
   "outputs": [],
   "source": []
  },
  {
   "cell_type": "markdown",
   "id": "a4b9a29f",
   "metadata": {
    "id": "8dxTzFlbHjKx"
   },
   "source": [
    "### Evaluate the predictions"
   ]
  },
  {
   "cell_type": "code",
   "execution_count": 127,
   "id": "6fdd9cb0",
   "metadata": {
    "id": "GEQh3AvaSWro"
   },
   "outputs": [],
   "source": [
    "def predictive_performance(model_result, X_test, y_test, threshold = 0.5):\n",
    "    \"\"\"\n",
    "    Calculate model's predictive performance\n",
    "\n",
    "    Parameters\n",
    "    ----------\n",
    "    model_result : result of fitted model\n",
    "        Model result from Statsmodels Logit\n",
    "\n",
    "    threshold : float in range[0,1], default = 0.5\n",
    "        Cut-off probability to classify predicted outcome\n",
    "\n",
    "    Returns\n",
    "    -------\n",
    "    accuracy : float\n",
    "        The accuracy\n",
    "\n",
    "    sensitivity : float\n",
    "        The true positive rate\n",
    "\n",
    "    specificity : float\n",
    "        The true negative rate\n",
    "    \"\"\"\n",
    "\n",
    "    X_test_sm = sm.add_constant(X_test)\n",
    "    predict_proba = y_pred_test_rus\n",
    "\n",
    "    # Define output y=1 or y=0\n",
    "    output_list=[]\n",
    "    for i in predict_proba:\n",
    "        if i > threshold:\n",
    "            output_list.append(1)\n",
    "        else:\n",
    "            output_list.append(0)\n",
    "\n",
    "    y_pred = np.array(output_list)\n",
    "\n",
    "    # Calculate the confusion matrix\n",
    "    TP = 0\n",
    "    FP = 0\n",
    "    FN = 0\n",
    "    TN = 0\n",
    "    for i in range(len(y_test)):\n",
    "        if y_pred[i]==1 and y_test[i]==1:\n",
    "            TP += 1\n",
    "        elif y_pred[i]==1 and y_test[i]==0:\n",
    "            FP += 1\n",
    "        elif y_pred[i]==0 and y_test[i]==1:\n",
    "            FN += 1\n",
    "        else:\n",
    "            TN += 1\n",
    "\n",
    "    # Calculate metrics from classification matric\n",
    "    accuracy = (TP+TN)/(TP+FP+TN+FN)\n",
    "    sensitivity = (TP)/(TP+FN)\n",
    "    specificity = (TN)/(TN+FP)\n",
    "\n",
    "    return accuracy, sensitivity, specificity\n"
   ]
  },
  {
   "cell_type": "code",
   "execution_count": 128,
   "id": "c03de91f",
   "metadata": {
    "colab": {
     "base_uri": "https://localhost:8080/"
    },
    "id": "YCLPkm8OAkLZ",
    "outputId": "02f2d8ff-9231-475b-c5e8-fb9898eef7cf"
   },
   "outputs": [
    {
     "data": {
      "text/plain": [
       "(0.8442579572087398, 0.8671480144404332, 0.8429933383860545)"
      ]
     },
     "execution_count": 128,
     "metadata": {},
     "output_type": "execute_result"
    }
   ],
   "source": [
    "# Calculate the best model's predictive performance on test set\n",
    "# Set the decision threshold = 0.5\n",
    "accuracy, sensitivity, specificity = predictive_performance(model_result = best_rus_model,\n",
    "                                                            X_test = X_test[:, best_predictors_rus],\n",
    "                                                            y_test = y_test,\n",
    "                                                            threshold = 0.5)\n",
    "\n",
    "accuracy, sensitivity, specificity"
   ]
  },
  {
   "cell_type": "markdown",
   "id": "0824d6ba",
   "metadata": {
    "id": "gayh94VRkc5R"
   },
   "source": [
    "Plot ROC and calculate AUC."
   ]
  },
  {
   "cell_type": "code",
   "execution_count": 124,
   "id": "1c5d4351",
   "metadata": {
    "id": "wHSdCfyaSZJf"
   },
   "outputs": [],
   "source": [
    "# Calculate sensitivity (TPR) and 1-specificity (FPR) from each possible threshold\n",
    "fpr, tpr, threshold = metrics.roc_curve(y_true = y_test,\n",
    "                                        y_score = y_pred_test_rus)\n",
    "\n",
    "# Calculate AUC score using method sklearn.metrics.roc_auc_score\n",
    "auc = metrics.roc_auc_score(y_true = y_test,\n",
    "                            y_score = y_pred_test_rus)\n",
    "\n",
    "auc = round(auc, 2)"
   ]
  },
  {
   "cell_type": "code",
   "execution_count": 125,
   "id": "61c3dfa1",
   "metadata": {
    "colab": {
     "base_uri": "https://localhost:8080/",
     "height": 0
    },
    "id": "g73lwdFpSzij",
    "outputId": "8e86bbbb-a0f5-4dc4-92a2-2e257a0d01ff"
   },
   "outputs": [
    {
     "data": {
      "image/png": "[encoded data removed]",
      "text/plain": [
       "<Figure size 640x480 with 1 Axes>"
      ]
     },
     "metadata": {},
     "output_type": "display_data"
    }
   ],
   "source": [
    "# Plot ROC and its AUC\n",
    "plt.plot(fpr,\n",
    "         tpr,\n",
    "         label = \"AUC best model=\"+str(auc))\n",
    "\n",
    "plt.scatter(fpr[(threshold > 0.5) & (threshold < 0.50005)],\n",
    "            tpr[(threshold > 0.5) & (threshold < 0.50005)],\n",
    "            label = 'Threshold = 0.5',\n",
    "            marker = 'x',\n",
    "            color = 'r')\n",
    "\n",
    "plt.ylabel(\"Sensitivity\")\n",
    "plt.xlabel(\"False Positive Rate (1- Specificity)\")\n",
    "plt.legend(loc = 4)\n",
    "plt.show()"
   ]
  },
  {
   "cell_type": "markdown",
   "id": "e80d413c",
   "metadata": {
    "id": "X5iZjH6SJX-l"
   },
   "source": [
    "Summary from ROC:\n",
    "- If we choose `threshold = 0.5`, we will get:\n",
    "  - False Positive Rate = 0.16\n",
    "  - True Positive Rate (Sensitivity) = 0.86\n",
    "\n",
    "- That means:\n",
    "  - There is a probability of 16% to incorrectly predict the actual diabetes patient.\n",
    "      - Note that we have a trade-off of a higher false positive rate when aiming for higher sensitivity."
   ]
  },
  {
   "cell_type": "markdown",
   "id": "5bedf380",
   "metadata": {
    "id": "qDOv53rWKrqm"
   },
   "source": [
    "### Interpret the Best Model Parameters"
   ]
  },
  {
   "cell_type": "code",
   "execution_count": 129,
   "id": "14cd223c",
   "metadata": {},
   "outputs": [
    {
     "ename": "AttributeError",
     "evalue": "'LogisticRegression' object has no attribute 'params'",
     "output_type": "error",
     "traceback": [
      "\u001b[1;31m---------------------------------------------------------------------------\u001b[0m",
      "\u001b[1;31mAttributeError\u001b[0m                            Traceback (most recent call last)",
      "\u001b[1;32m~\\AppData\\Local\\Temp\\ipykernel_11764\\3237455671.py\u001b[0m in \u001b[0;36m<module>\u001b[1;34m\u001b[0m\n\u001b[0;32m      1\u001b[0m \u001b[0mbest_model_params\u001b[0m \u001b[1;33m=\u001b[0m \u001b[1;33m[\u001b[0m\u001b[1;34m'constant'\u001b[0m\u001b[1;33m]\u001b[0m \u001b[1;33m+\u001b[0m \u001b[0mX_test\u001b[0m\u001b[1;33m[\u001b[0m\u001b[1;33m:\u001b[0m\u001b[1;33m,\u001b[0m \u001b[0mbest_predictors_rus\u001b[0m\u001b[1;33m]\u001b[0m\u001b[1;33m.\u001b[0m\u001b[0mtolist\u001b[0m\u001b[1;33m(\u001b[0m\u001b[1;33m)\u001b[0m\u001b[1;33m\u001b[0m\u001b[1;33m\u001b[0m\u001b[0m\n\u001b[0;32m      2\u001b[0m best_model_summary = pd.DataFrame({\n\u001b[1;32m----> 3\u001b[1;33m                                     \u001b[1;34m'weights'\u001b[0m\u001b[1;33m:\u001b[0m \u001b[0mbest_rus_model\u001b[0m\u001b[1;33m.\u001b[0m\u001b[0mparams\u001b[0m\u001b[1;33m,\u001b[0m\u001b[1;33m\u001b[0m\u001b[1;33m\u001b[0m\u001b[0m\n\u001b[0m\u001b[0;32m      4\u001b[0m                                     \u001b[1;34m'OR'\u001b[0m\u001b[1;33m:\u001b[0m \u001b[0mnp\u001b[0m\u001b[1;33m.\u001b[0m\u001b[0mexp\u001b[0m\u001b[1;33m(\u001b[0m\u001b[0mbest_rus_model\u001b[0m\u001b[1;33m.\u001b[0m\u001b[0mparams\u001b[0m\u001b[1;33m)\u001b[0m\u001b[1;33m\u001b[0m\u001b[1;33m\u001b[0m\u001b[0m\n\u001b[0;32m      5\u001b[0m                                   },\n",
      "\u001b[1;31mAttributeError\u001b[0m: 'LogisticRegression' object has no attribute 'params'"
     ]
    }
   ],
   "source": [
    "best_model_params = ['constant'] + X_test[:, best_predictors_rus].tolist()\n",
    "best_model_summary = pd.DataFrame({\n",
    "                                    'weights': best_rus_model.params,\n",
    "                                    'OR': np.exp(best_rus_model.params)\n",
    "                                  },\n",
    "                                  index = best_model_params)\n",
    "\n",
    "best_model_summary"
   ]
  },
  {
   "cell_type": "code",
   "execution_count": null,
   "id": "01eb5642",
   "metadata": {},
   "outputs": [],
   "source": []
  },
  {
   "cell_type": "code",
   "execution_count": null,
   "id": "9e7b8a5c",
   "metadata": {},
   "outputs": [],
   "source": []
  }
 ],
 "metadata": {
  "kernelspec": {
   "display_name": "Python 3 (ipykernel)",
   "language": "python",
   "name": "python3"
  },
  "language_info": {
   "codemirror_mode": {
    "name": "ipython",
    "version": 3
   },
   "file_extension": ".py",
   "mimetype": "text/x-python",
   "name": "python",
   "nbconvert_exporter": "python",
   "pygments_lexer": "ipython3",
   "version": "3.9.13"
  }
 },
 "nbformat": 4,
 "nbformat_minor": 5
}
